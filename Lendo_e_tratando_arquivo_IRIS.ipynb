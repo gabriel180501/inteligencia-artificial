{
  "nbformat": 4,
  "nbformat_minor": 0,
  "metadata": {
    "colab": {
      "provenance": [],
      "include_colab_link": true
    },
    "kernelspec": {
      "name": "python3",
      "display_name": "Python 3"
    },
    "language_info": {
      "name": "python"
    }
  },
  "cells": [
    {
      "cell_type": "markdown",
      "metadata": {
        "id": "view-in-github",
        "colab_type": "text"
      },
      "source": [
        "<a href=\"https://colab.research.google.com/github/gabriel180501/inteligencia-artificial/blob/main/Lendo_e_tratando_arquivo_IRIS.ipynb\" target=\"_parent\"><img src=\"https://colab.research.google.com/assets/colab-badge.svg\" alt=\"Open In Colab\"/></a>"
      ]
    },
    {
      "cell_type": "markdown",
      "source": [
        "**Atualizando a biblioteca para plotagem de gráficos**\n"
      ],
      "metadata": {
        "id": "WYfovYvpPtHN"
      }
    },
    {
      "cell_type": "code",
      "source": [
        "!pip -q install plotly --upgrade"
      ],
      "metadata": {
        "id": "hTIKXbn7PfB3"
      },
      "execution_count": 28,
      "outputs": []
    },
    {
      "cell_type": "markdown",
      "source": [
        "**Importando bibliotecas**"
      ],
      "metadata": {
        "id": "vWFW_ECYPktU"
      }
    },
    {
      "cell_type": "code",
      "source": [
        "import pandas as pd\n",
        "import numpy as np\n",
        "import seaborn as sns\n",
        "import matplotlib.pyplot as plt\n",
        "import plotly.express as px"
      ],
      "metadata": {
        "id": "kkOvJnL-P1QQ"
      },
      "execution_count": 29,
      "outputs": []
    },
    {
      "cell_type": "markdown",
      "source": [
        "**Abrindo um arquivo CSV do drive**"
      ],
      "metadata": {
        "id": "A5YB5ubEQfaE"
      }
    },
    {
      "cell_type": "code",
      "source": [
        "base = pd.read_csv('/content/sample_data/restaurantev2.csv', ';', encoding='latin-1') "
      ],
      "metadata": {
        "id": "3rzDkhcBQddF",
        "colab": {
          "base_uri": "https://localhost:8080/"
        },
        "outputId": "512d4b19-3ee5-4155-8e1c-837e0a5bd5dd"
      },
      "execution_count": 30,
      "outputs": [
        {
          "output_type": "stream",
          "name": "stderr",
          "text": [
            "/usr/local/lib/python3.8/dist-packages/IPython/core/interactiveshell.py:3326: FutureWarning: In a future version of pandas all arguments of read_csv except for the argument 'filepath_or_buffer' will be keyword-only\n",
            "  exec(code_obj, self.user_global_ns, self.user_ns)\n"
          ]
        }
      ]
    },
    {
      "cell_type": "code",
      "source": [
        "base"
      ],
      "metadata": {
        "id": "SFVtNXxPUAnR",
        "colab": {
          "base_uri": "https://localhost:8080/",
          "height": 426
        },
        "outputId": "08522a43-c3bd-4199-db94-fa21afae54d6"
      },
      "execution_count": 31,
      "outputs": [
        {
          "output_type": "execute_result",
          "data": {
            "text/plain": [
              "   Alternativo  Bar Sex/Sab fome Cliente Preço Chuva  Res       Tipo   Tempo  \\\n",
              "0          Sim  Não     Não  Sim  Alguns   RRR   Não  Sim    Francês    0-10   \n",
              "1          Sim  Não     Não  Sim   Cheio     R   Não  Não  Tailandês   30-60   \n",
              "2          Não  Sim     Não  Não  Alguns     R   Não  Não  Hamburger    0-10   \n",
              "3          Sim  Não     Sim  Sim   Cheio     R   Sim  Não  Tailandês  out/30   \n",
              "4          Sim  Não     Sim  Não   Cheio   RRR   Não  Sim    Francês     >60   \n",
              "5          Não  Sim     Não  Sim  Alguns    RR   Sim  Sim   Italiano    0-10   \n",
              "6          Não  Sim     Não  Não  Nenhum     R   Sim  Não  Hamburger    0-10   \n",
              "7          Não  Não     Não  Sim  Alguns    RR   Sim  Sim  Tailandês    0-10   \n",
              "8          Não  Sim     Sim  Não   Cheio     R   Sim  Não  Hamburger     >60   \n",
              "9          Sim  Sim     Sim  Sim   Cheio   RRR   Não  Sim   Italiano  out/30   \n",
              "10         Não  Não     Não  Não  Nenhum     R   Não  Não  Tailandês    0-10   \n",
              "11         Sim  Sim     Sim  Sim   Cheio     R   Não  Não  Hamburger   30-60   \n",
              "\n",
              "   conc  \n",
              "0   Sim  \n",
              "1   Não  \n",
              "2   Sim  \n",
              "3   Sim  \n",
              "4   Não  \n",
              "5   Sim  \n",
              "6   Não  \n",
              "7   Sim  \n",
              "8   Não  \n",
              "9   Não  \n",
              "10  Não  \n",
              "11  Sim  "
            ],
            "text/html": [
              "\n",
              "  <div id=\"df-8bce66f4-6bd5-487a-8d29-450c6c3b3d09\">\n",
              "    <div class=\"colab-df-container\">\n",
              "      <div>\n",
              "<style scoped>\n",
              "    .dataframe tbody tr th:only-of-type {\n",
              "        vertical-align: middle;\n",
              "    }\n",
              "\n",
              "    .dataframe tbody tr th {\n",
              "        vertical-align: top;\n",
              "    }\n",
              "\n",
              "    .dataframe thead th {\n",
              "        text-align: right;\n",
              "    }\n",
              "</style>\n",
              "<table border=\"1\" class=\"dataframe\">\n",
              "  <thead>\n",
              "    <tr style=\"text-align: right;\">\n",
              "      <th></th>\n",
              "      <th>Alternativo</th>\n",
              "      <th>Bar</th>\n",
              "      <th>Sex/Sab</th>\n",
              "      <th>fome</th>\n",
              "      <th>Cliente</th>\n",
              "      <th>Preço</th>\n",
              "      <th>Chuva</th>\n",
              "      <th>Res</th>\n",
              "      <th>Tipo</th>\n",
              "      <th>Tempo</th>\n",
              "      <th>conc</th>\n",
              "    </tr>\n",
              "  </thead>\n",
              "  <tbody>\n",
              "    <tr>\n",
              "      <th>0</th>\n",
              "      <td>Sim</td>\n",
              "      <td>Não</td>\n",
              "      <td>Não</td>\n",
              "      <td>Sim</td>\n",
              "      <td>Alguns</td>\n",
              "      <td>RRR</td>\n",
              "      <td>Não</td>\n",
              "      <td>Sim</td>\n",
              "      <td>Francês</td>\n",
              "      <td>0-10</td>\n",
              "      <td>Sim</td>\n",
              "    </tr>\n",
              "    <tr>\n",
              "      <th>1</th>\n",
              "      <td>Sim</td>\n",
              "      <td>Não</td>\n",
              "      <td>Não</td>\n",
              "      <td>Sim</td>\n",
              "      <td>Cheio</td>\n",
              "      <td>R</td>\n",
              "      <td>Não</td>\n",
              "      <td>Não</td>\n",
              "      <td>Tailandês</td>\n",
              "      <td>30-60</td>\n",
              "      <td>Não</td>\n",
              "    </tr>\n",
              "    <tr>\n",
              "      <th>2</th>\n",
              "      <td>Não</td>\n",
              "      <td>Sim</td>\n",
              "      <td>Não</td>\n",
              "      <td>Não</td>\n",
              "      <td>Alguns</td>\n",
              "      <td>R</td>\n",
              "      <td>Não</td>\n",
              "      <td>Não</td>\n",
              "      <td>Hamburger</td>\n",
              "      <td>0-10</td>\n",
              "      <td>Sim</td>\n",
              "    </tr>\n",
              "    <tr>\n",
              "      <th>3</th>\n",
              "      <td>Sim</td>\n",
              "      <td>Não</td>\n",
              "      <td>Sim</td>\n",
              "      <td>Sim</td>\n",
              "      <td>Cheio</td>\n",
              "      <td>R</td>\n",
              "      <td>Sim</td>\n",
              "      <td>Não</td>\n",
              "      <td>Tailandês</td>\n",
              "      <td>out/30</td>\n",
              "      <td>Sim</td>\n",
              "    </tr>\n",
              "    <tr>\n",
              "      <th>4</th>\n",
              "      <td>Sim</td>\n",
              "      <td>Não</td>\n",
              "      <td>Sim</td>\n",
              "      <td>Não</td>\n",
              "      <td>Cheio</td>\n",
              "      <td>RRR</td>\n",
              "      <td>Não</td>\n",
              "      <td>Sim</td>\n",
              "      <td>Francês</td>\n",
              "      <td>&gt;60</td>\n",
              "      <td>Não</td>\n",
              "    </tr>\n",
              "    <tr>\n",
              "      <th>5</th>\n",
              "      <td>Não</td>\n",
              "      <td>Sim</td>\n",
              "      <td>Não</td>\n",
              "      <td>Sim</td>\n",
              "      <td>Alguns</td>\n",
              "      <td>RR</td>\n",
              "      <td>Sim</td>\n",
              "      <td>Sim</td>\n",
              "      <td>Italiano</td>\n",
              "      <td>0-10</td>\n",
              "      <td>Sim</td>\n",
              "    </tr>\n",
              "    <tr>\n",
              "      <th>6</th>\n",
              "      <td>Não</td>\n",
              "      <td>Sim</td>\n",
              "      <td>Não</td>\n",
              "      <td>Não</td>\n",
              "      <td>Nenhum</td>\n",
              "      <td>R</td>\n",
              "      <td>Sim</td>\n",
              "      <td>Não</td>\n",
              "      <td>Hamburger</td>\n",
              "      <td>0-10</td>\n",
              "      <td>Não</td>\n",
              "    </tr>\n",
              "    <tr>\n",
              "      <th>7</th>\n",
              "      <td>Não</td>\n",
              "      <td>Não</td>\n",
              "      <td>Não</td>\n",
              "      <td>Sim</td>\n",
              "      <td>Alguns</td>\n",
              "      <td>RR</td>\n",
              "      <td>Sim</td>\n",
              "      <td>Sim</td>\n",
              "      <td>Tailandês</td>\n",
              "      <td>0-10</td>\n",
              "      <td>Sim</td>\n",
              "    </tr>\n",
              "    <tr>\n",
              "      <th>8</th>\n",
              "      <td>Não</td>\n",
              "      <td>Sim</td>\n",
              "      <td>Sim</td>\n",
              "      <td>Não</td>\n",
              "      <td>Cheio</td>\n",
              "      <td>R</td>\n",
              "      <td>Sim</td>\n",
              "      <td>Não</td>\n",
              "      <td>Hamburger</td>\n",
              "      <td>&gt;60</td>\n",
              "      <td>Não</td>\n",
              "    </tr>\n",
              "    <tr>\n",
              "      <th>9</th>\n",
              "      <td>Sim</td>\n",
              "      <td>Sim</td>\n",
              "      <td>Sim</td>\n",
              "      <td>Sim</td>\n",
              "      <td>Cheio</td>\n",
              "      <td>RRR</td>\n",
              "      <td>Não</td>\n",
              "      <td>Sim</td>\n",
              "      <td>Italiano</td>\n",
              "      <td>out/30</td>\n",
              "      <td>Não</td>\n",
              "    </tr>\n",
              "    <tr>\n",
              "      <th>10</th>\n",
              "      <td>Não</td>\n",
              "      <td>Não</td>\n",
              "      <td>Não</td>\n",
              "      <td>Não</td>\n",
              "      <td>Nenhum</td>\n",
              "      <td>R</td>\n",
              "      <td>Não</td>\n",
              "      <td>Não</td>\n",
              "      <td>Tailandês</td>\n",
              "      <td>0-10</td>\n",
              "      <td>Não</td>\n",
              "    </tr>\n",
              "    <tr>\n",
              "      <th>11</th>\n",
              "      <td>Sim</td>\n",
              "      <td>Sim</td>\n",
              "      <td>Sim</td>\n",
              "      <td>Sim</td>\n",
              "      <td>Cheio</td>\n",
              "      <td>R</td>\n",
              "      <td>Não</td>\n",
              "      <td>Não</td>\n",
              "      <td>Hamburger</td>\n",
              "      <td>30-60</td>\n",
              "      <td>Sim</td>\n",
              "    </tr>\n",
              "  </tbody>\n",
              "</table>\n",
              "</div>\n",
              "      <button class=\"colab-df-convert\" onclick=\"convertToInteractive('df-8bce66f4-6bd5-487a-8d29-450c6c3b3d09')\"\n",
              "              title=\"Convert this dataframe to an interactive table.\"\n",
              "              style=\"display:none;\">\n",
              "        \n",
              "  <svg xmlns=\"http://www.w3.org/2000/svg\" height=\"24px\"viewBox=\"0 0 24 24\"\n",
              "       width=\"24px\">\n",
              "    <path d=\"M0 0h24v24H0V0z\" fill=\"none\"/>\n",
              "    <path d=\"M18.56 5.44l.94 2.06.94-2.06 2.06-.94-2.06-.94-.94-2.06-.94 2.06-2.06.94zm-11 1L8.5 8.5l.94-2.06 2.06-.94-2.06-.94L8.5 2.5l-.94 2.06-2.06.94zm10 10l.94 2.06.94-2.06 2.06-.94-2.06-.94-.94-2.06-.94 2.06-2.06.94z\"/><path d=\"M17.41 7.96l-1.37-1.37c-.4-.4-.92-.59-1.43-.59-.52 0-1.04.2-1.43.59L10.3 9.45l-7.72 7.72c-.78.78-.78 2.05 0 2.83L4 21.41c.39.39.9.59 1.41.59.51 0 1.02-.2 1.41-.59l7.78-7.78 2.81-2.81c.8-.78.8-2.07 0-2.86zM5.41 20L4 18.59l7.72-7.72 1.47 1.35L5.41 20z\"/>\n",
              "  </svg>\n",
              "      </button>\n",
              "      \n",
              "  <style>\n",
              "    .colab-df-container {\n",
              "      display:flex;\n",
              "      flex-wrap:wrap;\n",
              "      gap: 12px;\n",
              "    }\n",
              "\n",
              "    .colab-df-convert {\n",
              "      background-color: #E8F0FE;\n",
              "      border: none;\n",
              "      border-radius: 50%;\n",
              "      cursor: pointer;\n",
              "      display: none;\n",
              "      fill: #1967D2;\n",
              "      height: 32px;\n",
              "      padding: 0 0 0 0;\n",
              "      width: 32px;\n",
              "    }\n",
              "\n",
              "    .colab-df-convert:hover {\n",
              "      background-color: #E2EBFA;\n",
              "      box-shadow: 0px 1px 2px rgba(60, 64, 67, 0.3), 0px 1px 3px 1px rgba(60, 64, 67, 0.15);\n",
              "      fill: #174EA6;\n",
              "    }\n",
              "\n",
              "    [theme=dark] .colab-df-convert {\n",
              "      background-color: #3B4455;\n",
              "      fill: #D2E3FC;\n",
              "    }\n",
              "\n",
              "    [theme=dark] .colab-df-convert:hover {\n",
              "      background-color: #434B5C;\n",
              "      box-shadow: 0px 1px 3px 1px rgba(0, 0, 0, 0.15);\n",
              "      filter: drop-shadow(0px 1px 2px rgba(0, 0, 0, 0.3));\n",
              "      fill: #FFFFFF;\n",
              "    }\n",
              "  </style>\n",
              "\n",
              "      <script>\n",
              "        const buttonEl =\n",
              "          document.querySelector('#df-8bce66f4-6bd5-487a-8d29-450c6c3b3d09 button.colab-df-convert');\n",
              "        buttonEl.style.display =\n",
              "          google.colab.kernel.accessAllowed ? 'block' : 'none';\n",
              "\n",
              "        async function convertToInteractive(key) {\n",
              "          const element = document.querySelector('#df-8bce66f4-6bd5-487a-8d29-450c6c3b3d09');\n",
              "          const dataTable =\n",
              "            await google.colab.kernel.invokeFunction('convertToInteractive',\n",
              "                                                     [key], {});\n",
              "          if (!dataTable) return;\n",
              "\n",
              "          const docLinkHtml = 'Like what you see? Visit the ' +\n",
              "            '<a target=\"_blank\" href=https://colab.research.google.com/notebooks/data_table.ipynb>data table notebook</a>'\n",
              "            + ' to learn more about interactive tables.';\n",
              "          element.innerHTML = '';\n",
              "          dataTable['output_type'] = 'display_data';\n",
              "          await google.colab.output.renderOutput(dataTable, element);\n",
              "          const docLink = document.createElement('div');\n",
              "          docLink.innerHTML = docLinkHtml;\n",
              "          element.appendChild(docLink);\n",
              "        }\n",
              "      </script>\n",
              "    </div>\n",
              "  </div>\n",
              "  "
            ]
          },
          "metadata": {},
          "execution_count": 31
        }
      ]
    },
    {
      "cell_type": "markdown",
      "source": [
        "**Contando quantidade de instâncias**\n"
      ],
      "metadata": {
        "id": "nnxpN2abg5eN"
      }
    },
    {
      "cell_type": "code",
      "source": [
        "np.unique(base['conc'], return_counts=True)"
      ],
      "metadata": {
        "id": "xgR2Os49WO3d",
        "colab": {
          "base_uri": "https://localhost:8080/"
        },
        "outputId": "9ada6e29-08d0-4860-81e6-5cdb5a11a338"
      },
      "execution_count": 32,
      "outputs": [
        {
          "output_type": "execute_result",
          "data": {
            "text/plain": [
              "(array(['Não', 'Sim'], dtype=object), array([6, 6]))"
            ]
          },
          "metadata": {},
          "execution_count": 32
        }
      ]
    },
    {
      "cell_type": "code",
      "source": [
        "sns.countplot(x = base['conc']);"
      ],
      "metadata": {
        "id": "n-DOy3oXXG4N",
        "colab": {
          "base_uri": "https://localhost:8080/",
          "height": 279
        },
        "outputId": "37b29641-84f4-4cea-cb0c-14151818fc4e"
      },
      "execution_count": 33,
      "outputs": [
        {
          "output_type": "display_data",
          "data": {
            "text/plain": [
              "<Figure size 432x288 with 1 Axes>"
            ],
            "image/png": "[encoded data removed]"
          },
          "metadata": {
            "needs_background": "light"
          }
        }
      ]
    },
    {
      "cell_type": "markdown",
      "source": [
        "**Separando os atributos de entrada e de classe**"
      ],
      "metadata": {
        "id": "MYJpg6Q8hH8i"
      }
    },
    {
      "cell_type": "code",
      "source": [
        "X_prev = base.iloc[:, 0:4].values"
      ],
      "metadata": {
        "id": "9EPdNWJIXPm2"
      },
      "execution_count": 34,
      "outputs": []
    },
    {
      "cell_type": "code",
      "source": [
        "X_prev"
      ],
      "metadata": {
        "id": "zYITR2Kv6X1F",
        "colab": {
          "base_uri": "https://localhost:8080/"
        },
        "outputId": "b0fe2457-186a-41d5-dc4f-ff9e74402092"
      },
      "execution_count": 35,
      "outputs": [
        {
          "output_type": "execute_result",
          "data": {
            "text/plain": [
              "array([['Sim', 'Não', 'Não', 'Sim'],\n",
              "       ['Sim', 'Não', 'Não', 'Sim'],\n",
              "       ['Não', 'Sim', 'Não', 'Não'],\n",
              "       ['Sim', 'Não', 'Sim', 'Sim'],\n",
              "       ['Sim', 'Não', 'Sim', 'Não'],\n",
              "       ['Não', 'Sim', 'Não', 'Sim'],\n",
              "       ['Não', 'Sim', 'Não', 'Não'],\n",
              "       ['Não', 'Não', 'Não', 'Sim'],\n",
              "       ['Não', 'Sim', 'Sim', 'Não'],\n",
              "       ['Sim', 'Sim', 'Sim', 'Sim'],\n",
              "       ['Não', 'Não', 'Não', 'Não'],\n",
              "       ['Sim', 'Sim', 'Sim', 'Sim']], dtype=object)"
            ]
          },
          "metadata": {},
          "execution_count": 35
        }
      ]
    },
    {
      "cell_type": "code",
      "source": [
        "y_classe = base.iloc[:, 4].values"
      ],
      "metadata": {
        "id": "kLLl-H1ygy7y"
      },
      "execution_count": 36,
      "outputs": []
    },
    {
      "cell_type": "code",
      "source": [
        "y_classe"
      ],
      "metadata": {
        "id": "XFnwVWk2hYzj",
        "colab": {
          "base_uri": "https://localhost:8080/"
        },
        "outputId": "ecac104b-d75e-490e-992b-0872fd12b224"
      },
      "execution_count": 37,
      "outputs": [
        {
          "output_type": "execute_result",
          "data": {
            "text/plain": [
              "array(['Alguns', 'Cheio', 'Alguns', 'Cheio', 'Cheio', 'Alguns', 'Nenhum',\n",
              "       'Alguns', 'Cheio', 'Cheio', 'Nenhum', 'Cheio'], dtype=object)"
            ]
          },
          "metadata": {},
          "execution_count": 37
        }
      ]
    },
    {
      "cell_type": "markdown",
      "source": [
        "**Método de amostragem Holdout**"
      ],
      "metadata": {
        "id": "9dxbazZBDX6H"
      }
    },
    {
      "cell_type": "code",
      "source": [
        "from sklearn.model_selection import train_test_split"
      ],
      "metadata": {
        "id": "_qGk4N4CK7LQ"
      },
      "execution_count": 38,
      "outputs": []
    },
    {
      "cell_type": "code",
      "source": [
        "X_prev"
      ],
      "metadata": {
        "id": "iSw7DIn3GuYn",
        "colab": {
          "base_uri": "https://localhost:8080/"
        },
        "outputId": "df482b4d-702e-4e5e-faab-2c244efdcae6"
      },
      "execution_count": 39,
      "outputs": [
        {
          "output_type": "execute_result",
          "data": {
            "text/plain": [
              "array([['Sim', 'Não', 'Não', 'Sim'],\n",
              "       ['Sim', 'Não', 'Não', 'Sim'],\n",
              "       ['Não', 'Sim', 'Não', 'Não'],\n",
              "       ['Sim', 'Não', 'Sim', 'Sim'],\n",
              "       ['Sim', 'Não', 'Sim', 'Não'],\n",
              "       ['Não', 'Sim', 'Não', 'Sim'],\n",
              "       ['Não', 'Sim', 'Não', 'Não'],\n",
              "       ['Não', 'Não', 'Não', 'Sim'],\n",
              "       ['Não', 'Sim', 'Sim', 'Não'],\n",
              "       ['Sim', 'Sim', 'Sim', 'Sim'],\n",
              "       ['Não', 'Não', 'Não', 'Não'],\n",
              "       ['Sim', 'Sim', 'Sim', 'Sim']], dtype=object)"
            ]
          },
          "metadata": {},
          "execution_count": 39
        }
      ]
    },
    {
      "cell_type": "code",
      "source": [
        "y_classe"
      ],
      "metadata": {
        "id": "y9YbfO5mGyuN",
        "colab": {
          "base_uri": "https://localhost:8080/"
        },
        "outputId": "6a01cc5e-255b-4259-b404-628e7169d2fd"
      },
      "execution_count": 40,
      "outputs": [
        {
          "output_type": "execute_result",
          "data": {
            "text/plain": [
              "array(['Alguns', 'Cheio', 'Alguns', 'Cheio', 'Cheio', 'Alguns', 'Nenhum',\n",
              "       'Alguns', 'Cheio', 'Cheio', 'Nenhum', 'Cheio'], dtype=object)"
            ]
          },
          "metadata": {},
          "execution_count": 40
        }
      ]
    },
    {
      "cell_type": "code",
      "source": [
        "y_classe.shape"
      ],
      "metadata": {
        "colab": {
          "base_uri": "https://localhost:8080/"
        },
        "id": "BBaT0pZRIocD",
        "outputId": "38d44c52-e6d6-4772-8160-881bdf00a968"
      },
      "execution_count": 41,
      "outputs": [
        {
          "output_type": "execute_result",
          "data": {
            "text/plain": [
              "(12,)"
            ]
          },
          "metadata": {},
          "execution_count": 41
        }
      ]
    },
    {
      "cell_type": "code",
      "source": [
        "from sklearn.model_selection import train_test_split\n",
        "X_treino, X_teste, y_treino, y_teste = train_test_split(X_prev, y_classe, test_size = 0.20, random_state = 0)"
      ],
      "metadata": {
        "id": "BQ7sHFHmDz_b"
      },
      "execution_count": 42,
      "outputs": []
    },
    {
      "cell_type": "code",
      "source": [
        "X_treino.shape"
      ],
      "metadata": {
        "id": "nXswVGPeK_HB",
        "colab": {
          "base_uri": "https://localhost:8080/"
        },
        "outputId": "4c6cd96b-5fe4-4b80-95ef-ddaed24156e4"
      },
      "execution_count": 43,
      "outputs": [
        {
          "output_type": "execute_result",
          "data": {
            "text/plain": [
              "(9, 4)"
            ]
          },
          "metadata": {},
          "execution_count": 43
        }
      ]
    },
    {
      "cell_type": "code",
      "source": [
        "X_teste.shape"
      ],
      "metadata": {
        "id": "Qt1gTVyxLAvS",
        "colab": {
          "base_uri": "https://localhost:8080/"
        },
        "outputId": "fa999777-51ac-4f9c-d737-2d48e33a232b"
      },
      "execution_count": 44,
      "outputs": [
        {
          "output_type": "execute_result",
          "data": {
            "text/plain": [
              "(3, 4)"
            ]
          },
          "metadata": {},
          "execution_count": 44
        }
      ]
    },
    {
      "cell_type": "code",
      "source": [
        "y_treino"
      ],
      "metadata": {
        "id": "Nd8g6k2ALDbU",
        "colab": {
          "base_uri": "https://localhost:8080/"
        },
        "outputId": "1cdd321a-0489-42b8-f130-6f1aacd4d081"
      },
      "execution_count": 45,
      "outputs": [
        {
          "output_type": "execute_result",
          "data": {
            "text/plain": [
              "array(['Nenhum', 'Alguns', 'Cheio', 'Cheio', 'Alguns', 'Cheio', 'Cheio',\n",
              "       'Alguns', 'Alguns'], dtype=object)"
            ]
          },
          "metadata": {},
          "execution_count": 45
        }
      ]
    },
    {
      "cell_type": "code",
      "source": [
        "y_teste"
      ],
      "metadata": {
        "id": "8VliUzP_LH5G",
        "colab": {
          "base_uri": "https://localhost:8080/"
        },
        "outputId": "81d367ca-6893-4642-95e0-ec1e185884bf"
      },
      "execution_count": 46,
      "outputs": [
        {
          "output_type": "execute_result",
          "data": {
            "text/plain": [
              "array(['Nenhum', 'Cheio', 'Cheio'], dtype=object)"
            ]
          },
          "metadata": {},
          "execution_count": 46
        }
      ]
    },
    {
      "cell_type": "code",
      "source": [
        "import pickle"
      ],
      "metadata": {
        "id": "zbE73RVVVPbW"
      },
      "execution_count": 51,
      "outputs": []
    },
    {
      "cell_type": "code",
      "source": [
        "with open('restaurante.pkl', mode = 'wb') as f:\n",
        "  pickle.dump([X_treino, X_teste, y_treino, y_teste], f)"
      ],
      "metadata": {
        "id": "v6E--H7lViHH"
      },
      "execution_count": 53,
      "outputs": []
    }
  ]
}