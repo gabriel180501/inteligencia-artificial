{
  "nbformat": 4,
  "nbformat_minor": 0,
  "metadata": {
    "colab": {
      "provenance": [],
      "authorship_tag": "ABX9TyMcmCe5+JwlWYJEaVX9JRu4",
      "include_colab_link": true
    },
    "kernelspec": {
      "name": "python3",
      "display_name": "Python 3"
    },
    "language_info": {
      "name": "python"
    }
  },
  "cells": [
    {
      "cell_type": "markdown",
      "metadata": {
        "id": "view-in-github",
        "colab_type": "text"
      },
      "source": [
        "<a href=\"https://colab.research.google.com/github/gabriel180501/inteligencia-artificial/blob/main/Lista6.ipynb\" target=\"_parent\"><img src=\"https://colab.research.google.com/assets/colab-badge.svg\" alt=\"Open In Colab\"/></a>"
      ]
    },
    {
      "cell_type": "code",
      "execution_count": null,
      "metadata": {
        "id": "Z269scDc2dH4"
      },
      "outputs": [],
      "source": [
        "import numpy as np\n"
      ]
    },
    {
      "cell_type": "code",
      "source": [
        "class Perceptron:\n",
        "    def __init__(self, input_size, lr=1, epochs=10): #Inicializa os pesos e o bias como valores aleatórios pequenos.\n",
        "        self.W = np.random.randn(input_size)\n",
        "        self.b = np.random.randn()\n",
        "        self.lr = lr\n",
        "        self.epochs = epochs\n",
        "\n",
        "    def sigmoid(self, x):\n",
        "        return 1 / (1 + np.exp(-x))\n",
        "\n",
        "    def predict(self, X):\n",
        "        z = np.dot(X, self.W) + self.b\n",
        "        a = self.sigmoid(z)\n",
        "        return np.round(a)\n",
        "\n",
        "    def train(self, X, y):# multiplica o valor da entrada pelo seu peso correspondente e soma o resultado.\n",
        "        for epoch in range(self.epochs):\n",
        "            for i in range(X.shape[0]):\n",
        "                z = np.dot(X[i], self.W) + self.b\n",
        "                a = self.sigmoid(z)\n",
        "                error = y[i] - a\n",
        "                self.W += self.lr * error * X[i] \n",
        "                self.b += self.lr * error"
      ],
      "metadata": {
        "id": "Vdlq5kur2mkz"
      },
      "execution_count": null,
      "outputs": []
    },
    {
      "cell_type": "code",
      "source": [
        "X_and = np.array([[0, 0], [0, 1], [1, 0], [1, 1]])\n",
        "y_and = np.array([0, 0, 0, 1])"
      ],
      "metadata": {
        "id": "xdi9EFvR2s5x"
      },
      "execution_count": null,
      "outputs": []
    },
    {
      "cell_type": "code",
      "source": [
        "model_and = Perceptron(input_size=2)\n",
        "model_and.train(X_and, y_and)"
      ],
      "metadata": {
        "id": "RAaj2I8t2tbK"
      },
      "execution_count": null,
      "outputs": []
    },
    {
      "cell_type": "code",
      "source": [
        "print(model_and.predict(np.array([[0, 0], [0, 1], [1, 0], [1, 1]]))) # [0, 0, 0, 1]"
      ],
      "metadata": {
        "id": "Z6gagFLv6Myf"
      },
      "execution_count": null,
      "outputs": []
    },
    {
      "cell_type": "code",
      "source": [
        "X_or = np.array([[0, 0], [0, 1], [1, 0], [1, 1]])\n",
        "y_or = np.array([0, 1, 1, 1])"
      ],
      "metadata": {
        "id": "nwoR8yN179T5"
      },
      "execution_count": null,
      "outputs": []
    },
    {
      "cell_type": "code",
      "source": [
        "model_or = Perceptron(input_size=2)\n",
        "model_or.train(X_or, y_or)"
      ],
      "metadata": {
        "id": "-vUZQ5cV7_rU"
      },
      "execution_count": null,
      "outputs": []
    },
    {
      "cell_type": "code",
      "source": [
        "predictions = model_and.predict(X_and)"
      ],
      "metadata": {
        "id": "rAJBd1hM8CKJ"
      },
      "execution_count": null,
      "outputs": []
    },
    {
      "cell_type": "code",
      "source": [
        "print(predictions)"
      ],
      "metadata": {
        "id": "PwDz6wxF8EZn"
      },
      "execution_count": null,
      "outputs": []
    }
  ]
}