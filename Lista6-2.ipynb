{
  "nbformat": 4,
  "nbformat_minor": 0,
  "metadata": {
    "colab": {
      "provenance": [],
      "authorship_tag": "ABX9TyO4Iu6PoE0KoTG0ShIVJoGJ",
      "include_colab_link": true
    },
    "kernelspec": {
      "name": "python3",
      "display_name": "Python 3"
    },
    "language_info": {
      "name": "python"
    }
  },
  "cells": [
    {
      "cell_type": "markdown",
      "metadata": {
        "id": "view-in-github",
        "colab_type": "text"
      },
      "source": [
        "<a href=\"https://colab.research.google.com/github/gabriel180501/inteligencia-artificial/blob/main/Lista6-2.ipynb\" target=\"_parent\"><img src=\"https://colab.research.google.com/assets/colab-badge.svg\" alt=\"Open In Colab\"/></a>"
      ]
    },
    {
      "cell_type": "code",
      "execution_count": 2,
      "metadata": {
        "id": "Z269scDc2dH4"
      },
      "outputs": [],
      "source": [
        "import numpy as np\n"
      ]
    },
    {
      "cell_type": "code",
      "source": [
        "class Perceptron:\n",
        "    def __init__(self, num_inputs, lr=0.1, epochs=10):\n",
        "        self.lr = lr\n",
        "        self.epochs = epochs\n",
        "        self.weights = np.random.rand(num_inputs + 1)\n",
        "        \n",
        "    def activation(self, x):\n",
        "        return 1 if x >= 0 else 0\n",
        "    \n",
        "    def predict(self, x):\n",
        "        z = self.weights[0] + np.dot(x, self.weights[1:])\n",
        "        a = np.vectorize(self.activation)(z)\n",
        "        return a\n",
        "    \n",
        "    def train(self, x, y):\n",
        "        for epoch in range(self.epochs):\n",
        "            errors = 0\n",
        "            for i in range(len(x)):\n",
        "                y_pred = self.predict(x[i])\n",
        "                error = y[i] - y_pred\n",
        "                self.weights[1:] += self.lr * error * x[i]\n",
        "                self.weights[0] += self.lr * error\n",
        "                errors += int(error != 0)\n",
        "                print(f\"Input: {x[i]}, True Output: {y[i]}, Predicted Output: {y_pred}\")\n",
        "            print(f\"Epoch: {epoch+1}, Errors: {errors}\")"
      ],
      "metadata": {
        "id": "Vdlq5kur2mkz"
      },
      "execution_count": 77,
      "outputs": []
    },
    {
      "cell_type": "code",
      "source": [
        "X_and = np.array([[0, 0, 0], [0, 0, 1], [0, 1, 0], [0, 1, 1], [1, 0, 0], [1, 0, 1], [1, 1, 0], [1, 1, 1]])\n",
        "y_and = np.array([0, 0, 0, 0, 0, 0, 0, 1])"
      ],
      "metadata": {
        "id": "xdi9EFvR2s5x"
      },
      "execution_count": 75,
      "outputs": []
    },
    {
      "cell_type": "code",
      "source": [
        "model_and = Perceptron(num_inputs=3)\n",
        "model_and.train(X_and, y_and)"
      ],
      "metadata": {
        "id": "RAaj2I8t2tbK",
        "colab": {
          "base_uri": "https://localhost:8080/"
        },
        "outputId": "9a8817a8-2ce1-4d48-dbb1-5c161a5cc2e3"
      },
      "execution_count": 80,
      "outputs": [
        {
          "output_type": "stream",
          "name": "stdout",
          "text": [
            "Input: [0 0 0], True Output: 0, Predicted Output: 1\n",
            "Input: [0 0 1], True Output: 0, Predicted Output: 1\n",
            "Input: [0 1 0], True Output: 0, Predicted Output: 1\n",
            "Input: [0 1 1], True Output: 0, Predicted Output: 1\n",
            "Input: [1 0 0], True Output: 0, Predicted Output: 1\n",
            "Input: [1 0 1], True Output: 0, Predicted Output: 0\n",
            "Input: [1 1 0], True Output: 0, Predicted Output: 1\n",
            "Input: [1 1 1], True Output: 1, Predicted Output: 1\n",
            "Epoch: 1, Errors: 6\n",
            "Input: [0 0 0], True Output: 0, Predicted Output: 0\n",
            "Input: [0 0 1], True Output: 0, Predicted Output: 0\n",
            "Input: [0 1 0], True Output: 0, Predicted Output: 1\n",
            "Input: [0 1 1], True Output: 0, Predicted Output: 0\n",
            "Input: [1 0 0], True Output: 0, Predicted Output: 0\n",
            "Input: [1 0 1], True Output: 0, Predicted Output: 0\n",
            "Input: [1 1 0], True Output: 0, Predicted Output: 1\n",
            "Input: [1 1 1], True Output: 1, Predicted Output: 0\n",
            "Epoch: 2, Errors: 3\n",
            "Input: [0 0 0], True Output: 0, Predicted Output: 0\n",
            "Input: [0 0 1], True Output: 0, Predicted Output: 0\n",
            "Input: [0 1 0], True Output: 0, Predicted Output: 1\n",
            "Input: [0 1 1], True Output: 0, Predicted Output: 0\n",
            "Input: [1 0 0], True Output: 0, Predicted Output: 0\n",
            "Input: [1 0 1], True Output: 0, Predicted Output: 0\n",
            "Input: [1 1 0], True Output: 0, Predicted Output: 0\n",
            "Input: [1 1 1], True Output: 1, Predicted Output: 0\n",
            "Epoch: 3, Errors: 2\n",
            "Input: [0 0 0], True Output: 0, Predicted Output: 0\n",
            "Input: [0 0 1], True Output: 0, Predicted Output: 0\n",
            "Input: [0 1 0], True Output: 0, Predicted Output: 1\n",
            "Input: [0 1 1], True Output: 0, Predicted Output: 0\n",
            "Input: [1 0 0], True Output: 0, Predicted Output: 0\n",
            "Input: [1 0 1], True Output: 0, Predicted Output: 0\n",
            "Input: [1 1 0], True Output: 0, Predicted Output: 0\n",
            "Input: [1 1 1], True Output: 1, Predicted Output: 0\n",
            "Epoch: 4, Errors: 2\n",
            "Input: [0 0 0], True Output: 0, Predicted Output: 0\n",
            "Input: [0 0 1], True Output: 0, Predicted Output: 0\n",
            "Input: [0 1 0], True Output: 0, Predicted Output: 1\n",
            "Input: [0 1 1], True Output: 0, Predicted Output: 1\n",
            "Input: [1 0 0], True Output: 0, Predicted Output: 0\n",
            "Input: [1 0 1], True Output: 0, Predicted Output: 0\n",
            "Input: [1 1 0], True Output: 0, Predicted Output: 0\n",
            "Input: [1 1 1], True Output: 1, Predicted Output: 0\n",
            "Epoch: 5, Errors: 3\n",
            "Input: [0 0 0], True Output: 0, Predicted Output: 0\n",
            "Input: [0 0 1], True Output: 0, Predicted Output: 0\n",
            "Input: [0 1 0], True Output: 0, Predicted Output: 0\n",
            "Input: [0 1 1], True Output: 0, Predicted Output: 1\n",
            "Input: [1 0 0], True Output: 0, Predicted Output: 0\n",
            "Input: [1 0 1], True Output: 0, Predicted Output: 0\n",
            "Input: [1 1 0], True Output: 0, Predicted Output: 0\n",
            "Input: [1 1 1], True Output: 1, Predicted Output: 0\n",
            "Epoch: 6, Errors: 2\n",
            "Input: [0 0 0], True Output: 0, Predicted Output: 0\n",
            "Input: [0 0 1], True Output: 0, Predicted Output: 0\n",
            "Input: [0 1 0], True Output: 0, Predicted Output: 0\n",
            "Input: [0 1 1], True Output: 0, Predicted Output: 1\n",
            "Input: [1 0 0], True Output: 0, Predicted Output: 0\n",
            "Input: [1 0 1], True Output: 0, Predicted Output: 0\n",
            "Input: [1 1 0], True Output: 0, Predicted Output: 1\n",
            "Input: [1 1 1], True Output: 1, Predicted Output: 0\n",
            "Epoch: 7, Errors: 3\n",
            "Input: [0 0 0], True Output: 0, Predicted Output: 0\n",
            "Input: [0 0 1], True Output: 0, Predicted Output: 0\n",
            "Input: [0 1 0], True Output: 0, Predicted Output: 0\n",
            "Input: [0 1 1], True Output: 0, Predicted Output: 0\n",
            "Input: [1 0 0], True Output: 0, Predicted Output: 0\n",
            "Input: [1 0 1], True Output: 0, Predicted Output: 1\n",
            "Input: [1 1 0], True Output: 0, Predicted Output: 0\n",
            "Input: [1 1 1], True Output: 1, Predicted Output: 0\n",
            "Epoch: 8, Errors: 2\n",
            "Input: [0 0 0], True Output: 0, Predicted Output: 0\n",
            "Input: [0 0 1], True Output: 0, Predicted Output: 0\n",
            "Input: [0 1 0], True Output: 0, Predicted Output: 0\n",
            "Input: [0 1 1], True Output: 0, Predicted Output: 0\n",
            "Input: [1 0 0], True Output: 0, Predicted Output: 0\n",
            "Input: [1 0 1], True Output: 0, Predicted Output: 1\n",
            "Input: [1 1 0], True Output: 0, Predicted Output: 0\n",
            "Input: [1 1 1], True Output: 1, Predicted Output: 0\n",
            "Epoch: 9, Errors: 2\n",
            "Input: [0 0 0], True Output: 0, Predicted Output: 0\n",
            "Input: [0 0 1], True Output: 0, Predicted Output: 0\n",
            "Input: [0 1 0], True Output: 0, Predicted Output: 0\n",
            "Input: [0 1 1], True Output: 0, Predicted Output: 1\n",
            "Input: [1 0 0], True Output: 0, Predicted Output: 0\n",
            "Input: [1 0 1], True Output: 0, Predicted Output: 0\n",
            "Input: [1 1 0], True Output: 0, Predicted Output: 1\n",
            "Input: [1 1 1], True Output: 1, Predicted Output: 0\n",
            "Epoch: 10, Errors: 3\n"
          ]
        }
      ]
    },
    {
      "cell_type": "code",
      "source": [
        "print(model_and.predict(np.array([[0, 0, 0], [0, 0, 1], [0, 1, 0], [0, 1, 1], [1, 0, 0], [1, 0, 1], [1, 1, 0], [1, 1, 1]])))"
      ],
      "metadata": {
        "id": "Z6gagFLv6Myf",
        "colab": {
          "base_uri": "https://localhost:8080/"
        },
        "outputId": "1622cc3f-c6fd-4b39-f28d-6ed9ab6e533e"
      },
      "execution_count": 81,
      "outputs": [
        {
          "output_type": "stream",
          "name": "stdout",
          "text": [
            "[0 0 0 0 0 0 1 1]\n"
          ]
        }
      ]
    },
    {
      "cell_type": "code",
      "source": [
        "X_or = np.array([[0, 0, 0], [0, 0, 1], [0, 1, 0], [0, 1, 1], [1, 0, 0], [1, 0, 1], [1, 1, 0], [1, 1, 1]])\n",
        "y_or = np.array([0, 1, 1, 1, 1, 1, 1, 1])"
      ],
      "metadata": {
        "id": "nwoR8yN179T5"
      },
      "execution_count": 88,
      "outputs": []
    },
    {
      "cell_type": "code",
      "source": [
        "model_or = Perceptron(num_inputs=3)\n",
        "model_or.train(X_or, y_or)"
      ],
      "metadata": {
        "id": "-vUZQ5cV7_rU",
        "colab": {
          "base_uri": "https://localhost:8080/"
        },
        "outputId": "65aaf73d-9755-4ee5-dde8-9204a9e119ac"
      },
      "execution_count": 89,
      "outputs": [
        {
          "output_type": "stream",
          "name": "stdout",
          "text": [
            "Input: [0 0 0], True Output: 0, Predicted Output: 1\n",
            "Input: [0 0 1], True Output: 1, Predicted Output: 1\n",
            "Input: [0 1 0], True Output: 1, Predicted Output: 1\n",
            "Input: [0 1 1], True Output: 1, Predicted Output: 1\n",
            "Input: [1 0 0], True Output: 1, Predicted Output: 1\n",
            "Input: [1 0 1], True Output: 1, Predicted Output: 1\n",
            "Input: [1 1 0], True Output: 1, Predicted Output: 1\n",
            "Input: [1 1 1], True Output: 1, Predicted Output: 1\n",
            "Epoch: 1, Errors: 1\n",
            "Input: [0 0 0], True Output: 0, Predicted Output: 1\n",
            "Input: [0 0 1], True Output: 1, Predicted Output: 1\n",
            "Input: [0 1 0], True Output: 1, Predicted Output: 1\n",
            "Input: [0 1 1], True Output: 1, Predicted Output: 1\n",
            "Input: [1 0 0], True Output: 1, Predicted Output: 1\n",
            "Input: [1 0 1], True Output: 1, Predicted Output: 1\n",
            "Input: [1 1 0], True Output: 1, Predicted Output: 1\n",
            "Input: [1 1 1], True Output: 1, Predicted Output: 1\n",
            "Epoch: 2, Errors: 1\n",
            "Input: [0 0 0], True Output: 0, Predicted Output: 1\n",
            "Input: [0 0 1], True Output: 1, Predicted Output: 1\n",
            "Input: [0 1 0], True Output: 1, Predicted Output: 1\n",
            "Input: [0 1 1], True Output: 1, Predicted Output: 1\n",
            "Input: [1 0 0], True Output: 1, Predicted Output: 1\n",
            "Input: [1 0 1], True Output: 1, Predicted Output: 1\n",
            "Input: [1 1 0], True Output: 1, Predicted Output: 1\n",
            "Input: [1 1 1], True Output: 1, Predicted Output: 1\n",
            "Epoch: 3, Errors: 1\n",
            "Input: [0 0 0], True Output: 0, Predicted Output: 1\n",
            "Input: [0 0 1], True Output: 1, Predicted Output: 1\n",
            "Input: [0 1 0], True Output: 1, Predicted Output: 1\n",
            "Input: [0 1 1], True Output: 1, Predicted Output: 1\n",
            "Input: [1 0 0], True Output: 1, Predicted Output: 1\n",
            "Input: [1 0 1], True Output: 1, Predicted Output: 1\n",
            "Input: [1 1 0], True Output: 1, Predicted Output: 1\n",
            "Input: [1 1 1], True Output: 1, Predicted Output: 1\n",
            "Epoch: 4, Errors: 1\n",
            "Input: [0 0 0], True Output: 0, Predicted Output: 0\n",
            "Input: [0 0 1], True Output: 1, Predicted Output: 1\n",
            "Input: [0 1 0], True Output: 1, Predicted Output: 1\n",
            "Input: [0 1 1], True Output: 1, Predicted Output: 1\n",
            "Input: [1 0 0], True Output: 1, Predicted Output: 1\n",
            "Input: [1 0 1], True Output: 1, Predicted Output: 1\n",
            "Input: [1 1 0], True Output: 1, Predicted Output: 1\n",
            "Input: [1 1 1], True Output: 1, Predicted Output: 1\n",
            "Epoch: 5, Errors: 0\n",
            "Input: [0 0 0], True Output: 0, Predicted Output: 0\n",
            "Input: [0 0 1], True Output: 1, Predicted Output: 1\n",
            "Input: [0 1 0], True Output: 1, Predicted Output: 1\n",
            "Input: [0 1 1], True Output: 1, Predicted Output: 1\n",
            "Input: [1 0 0], True Output: 1, Predicted Output: 1\n",
            "Input: [1 0 1], True Output: 1, Predicted Output: 1\n",
            "Input: [1 1 0], True Output: 1, Predicted Output: 1\n",
            "Input: [1 1 1], True Output: 1, Predicted Output: 1\n",
            "Epoch: 6, Errors: 0\n",
            "Input: [0 0 0], True Output: 0, Predicted Output: 0\n",
            "Input: [0 0 1], True Output: 1, Predicted Output: 1\n",
            "Input: [0 1 0], True Output: 1, Predicted Output: 1\n",
            "Input: [0 1 1], True Output: 1, Predicted Output: 1\n",
            "Input: [1 0 0], True Output: 1, Predicted Output: 1\n",
            "Input: [1 0 1], True Output: 1, Predicted Output: 1\n",
            "Input: [1 1 0], True Output: 1, Predicted Output: 1\n",
            "Input: [1 1 1], True Output: 1, Predicted Output: 1\n",
            "Epoch: 7, Errors: 0\n",
            "Input: [0 0 0], True Output: 0, Predicted Output: 0\n",
            "Input: [0 0 1], True Output: 1, Predicted Output: 1\n",
            "Input: [0 1 0], True Output: 1, Predicted Output: 1\n",
            "Input: [0 1 1], True Output: 1, Predicted Output: 1\n",
            "Input: [1 0 0], True Output: 1, Predicted Output: 1\n",
            "Input: [1 0 1], True Output: 1, Predicted Output: 1\n",
            "Input: [1 1 0], True Output: 1, Predicted Output: 1\n",
            "Input: [1 1 1], True Output: 1, Predicted Output: 1\n",
            "Epoch: 8, Errors: 0\n",
            "Input: [0 0 0], True Output: 0, Predicted Output: 0\n",
            "Input: [0 0 1], True Output: 1, Predicted Output: 1\n",
            "Input: [0 1 0], True Output: 1, Predicted Output: 1\n",
            "Input: [0 1 1], True Output: 1, Predicted Output: 1\n",
            "Input: [1 0 0], True Output: 1, Predicted Output: 1\n",
            "Input: [1 0 1], True Output: 1, Predicted Output: 1\n",
            "Input: [1 1 0], True Output: 1, Predicted Output: 1\n",
            "Input: [1 1 1], True Output: 1, Predicted Output: 1\n",
            "Epoch: 9, Errors: 0\n",
            "Input: [0 0 0], True Output: 0, Predicted Output: 0\n",
            "Input: [0 0 1], True Output: 1, Predicted Output: 1\n",
            "Input: [0 1 0], True Output: 1, Predicted Output: 1\n",
            "Input: [0 1 1], True Output: 1, Predicted Output: 1\n",
            "Input: [1 0 0], True Output: 1, Predicted Output: 1\n",
            "Input: [1 0 1], True Output: 1, Predicted Output: 1\n",
            "Input: [1 1 0], True Output: 1, Predicted Output: 1\n",
            "Input: [1 1 1], True Output: 1, Predicted Output: 1\n",
            "Epoch: 10, Errors: 0\n"
          ]
        }
      ]
    },
    {
      "cell_type": "code",
      "source": [
        "predictions = model_and.predict(X_or)"
      ],
      "metadata": {
        "id": "rAJBd1hM8CKJ"
      },
      "execution_count": 86,
      "outputs": []
    },
    {
      "cell_type": "code",
      "source": [
        "print(predictions)"
      ],
      "metadata": {
        "id": "PwDz6wxF8EZn",
        "colab": {
          "base_uri": "https://localhost:8080/"
        },
        "outputId": "13bf6175-8f28-4e2f-d158-0ecbc361780f"
      },
      "execution_count": 87,
      "outputs": [
        {
          "output_type": "stream",
          "name": "stdout",
          "text": [
            "[0 0 0 0 0 0 1 1]\n"
          ]
        }
      ]
    }
  ]
}