{
  "nbformat": 4,
  "nbformat_minor": 0,
  "metadata": {
    "colab": {
      "provenance": [],
      "include_colab_link": true
    },
    "kernelspec": {
      "name": "python3",
      "display_name": "Python 3"
    },
    "language_info": {
      "name": "python"
    }
  },
  "cells": [
    {
      "cell_type": "markdown",
      "metadata": {
        "id": "view-in-github",
        "colab_type": "text"
      },
      "source": [
        "<a href=\"https://colab.research.google.com/github/gabriel180501/inteligencia-artificial/blob/main/Apriori.ipynb\" target=\"_parent\"><img src=\"https://colab.research.google.com/assets/colab-badge.svg\" alt=\"Open In Colab\"/></a>"
      ]
    },
    {
      "cell_type": "markdown",
      "source": [
        "**Regras de associação**\n",
        "\n",
        "**Algoritmo Apriori**\n",
        "\n",
        "**Veja: https://www.youtube.com/watch?v=0v6PiOpsJi8** "
      ],
      "metadata": {
        "id": "qm5lmIq9Xe-a"
      }
    },
    {
      "cell_type": "code",
      "metadata": {
        "id": "2bZM-_AsBVca",
        "colab": {
          "base_uri": "https://localhost:8080/"
        },
        "outputId": "4dba2845-5958-43a5-ebf8-3fb85224495d"
      },
      "source": [
        "!pip install apyori"
      ],
      "execution_count": 2,
      "outputs": [
        {
          "output_type": "stream",
          "name": "stdout",
          "text": [
            "Looking in indexes: https://pypi.org/simple, https://us-python.pkg.dev/colab-wheels/public/simple/\n",
            "Collecting apyori\n",
            "  Downloading apyori-1.1.2.tar.gz (8.6 kB)\n",
            "  Preparing metadata (setup.py) ... \u001b[?25l\u001b[?25hdone\n",
            "Building wheels for collected packages: apyori\n",
            "  Building wheel for apyori (setup.py) ... \u001b[?25l\u001b[?25hdone\n",
            "  Created wheel for apyori: filename=apyori-1.1.2-py3-none-any.whl size=5976 sha256=c599b2358e19fee912bf6fe1d8baf4638b8933bc98629443a5a5514439a2d9f3\n",
            "  Stored in directory: /root/.cache/pip/wheels/32/2a/54/10c595515f385f3726642b10c60bf788029e8f3a1323e3913a\n",
            "Successfully built apyori\n",
            "Installing collected packages: apyori\n",
            "Successfully installed apyori-1.1.2\n"
          ]
        }
      ]
    },
    {
      "cell_type": "code",
      "metadata": {
        "id": "m3d_ivF4Bcn5"
      },
      "source": [
        "import pandas as pd\n",
        "from apyori import apriori"
      ],
      "execution_count": 3,
      "outputs": []
    },
    {
      "cell_type": "code",
      "metadata": {
        "id": "fGx34zCzBkw1",
        "outputId": "697322dc-7851-4a87-dfa1-05df887c8fbc",
        "colab": {
          "base_uri": "https://localhost:8080/",
          "height": 418
        }
      },
      "source": [
        "#encoding = \"cp1252\", encoding='utf-8', encoding='latin1'etc\n",
        "#base= pd.read_csv('/content/sample_data/pasta de dente python SIM.csv', ';', encoding='cp1252', header=None)\n",
        "#base= pd.read_csv('/content/sample_data/pasta de dente python SIM e NÃO.csv', ';', encoding='cp1252')\n",
        "base= pd.read_csv('/content/sample_data/MercadoSim.csv', ';', encoding='cp1252',header=None)\n",
        "base"
      ],
      "execution_count": 4,
      "outputs": [
        {
          "output_type": "stream",
          "name": "stderr",
          "text": [
            "<ipython-input-4-3eeea7974021>:4: FutureWarning: In a future version of pandas all arguments of read_csv except for the argument 'filepath_or_buffer' will be keyword-only.\n",
            "  base= pd.read_csv('/content/sample_data/MercadoSim.csv', ';', encoding='cp1252',header=None)\n"
          ]
        },
        {
          "output_type": "execute_result",
          "data": {
            "text/plain": [
              "       0     1        2    3         4      5       6\n",
              "0    NaN  Cafe      NaN  Pao  Manteiga    NaN     NaN\n",
              "1  Leite   NaN  Cerveja  Pao  Manteiga    NaN     NaN\n",
              "2    NaN  Cafe      NaN  Pao  Manteiga    NaN     NaN\n",
              "3  Leite  Cafe      NaN  Pao  Manteiga    NaN     NaN\n",
              "4    NaN   NaN  Cerveja  NaN       NaN    NaN     NaN\n",
              "5    NaN   NaN      NaN  NaN  Manteiga    NaN     NaN\n",
              "6    NaN   NaN      NaN  Pao       NaN    NaN     NaN\n",
              "7    NaN   NaN      NaN  NaN       NaN    NaN  Feijao\n",
              "8    NaN   NaN      NaN  NaN       NaN  Arroz  Feijao\n",
              "9    NaN   NaN      NaN  NaN       NaN  Arroz     NaN"
            ],
            "text/html": [
              "\n",
              "  <div id=\"df-2f348049-acfb-415e-99d6-ed6e910369cb\">\n",
              "    <div class=\"colab-df-container\">\n",
              "      <div>\n",
              "<style scoped>\n",
              "    .dataframe tbody tr th:only-of-type {\n",
              "        vertical-align: middle;\n",
              "    }\n",
              "\n",
              "    .dataframe tbody tr th {\n",
              "        vertical-align: top;\n",
              "    }\n",
              "\n",
              "    .dataframe thead th {\n",
              "        text-align: right;\n",
              "    }\n",
              "</style>\n",
              "<table border=\"1\" class=\"dataframe\">\n",
              "  <thead>\n",
              "    <tr style=\"text-align: right;\">\n",
              "      <th></th>\n",
              "      <th>0</th>\n",
              "      <th>1</th>\n",
              "      <th>2</th>\n",
              "      <th>3</th>\n",
              "      <th>4</th>\n",
              "      <th>5</th>\n",
              "      <th>6</th>\n",
              "    </tr>\n",
              "  </thead>\n",
              "  <tbody>\n",
              "    <tr>\n",
              "      <th>0</th>\n",
              "      <td>NaN</td>\n",
              "      <td>Cafe</td>\n",
              "      <td>NaN</td>\n",
              "      <td>Pao</td>\n",
              "      <td>Manteiga</td>\n",
              "      <td>NaN</td>\n",
              "      <td>NaN</td>\n",
              "    </tr>\n",
              "    <tr>\n",
              "      <th>1</th>\n",
              "      <td>Leite</td>\n",
              "      <td>NaN</td>\n",
              "      <td>Cerveja</td>\n",
              "      <td>Pao</td>\n",
              "      <td>Manteiga</td>\n",
              "      <td>NaN</td>\n",
              "      <td>NaN</td>\n",
              "    </tr>\n",
              "    <tr>\n",
              "      <th>2</th>\n",
              "      <td>NaN</td>\n",
              "      <td>Cafe</td>\n",
              "      <td>NaN</td>\n",
              "      <td>Pao</td>\n",
              "      <td>Manteiga</td>\n",
              "      <td>NaN</td>\n",
              "      <td>NaN</td>\n",
              "    </tr>\n",
              "    <tr>\n",
              "      <th>3</th>\n",
              "      <td>Leite</td>\n",
              "      <td>Cafe</td>\n",
              "      <td>NaN</td>\n",
              "      <td>Pao</td>\n",
              "      <td>Manteiga</td>\n",
              "      <td>NaN</td>\n",
              "      <td>NaN</td>\n",
              "    </tr>\n",
              "    <tr>\n",
              "      <th>4</th>\n",
              "      <td>NaN</td>\n",
              "      <td>NaN</td>\n",
              "      <td>Cerveja</td>\n",
              "      <td>NaN</td>\n",
              "      <td>NaN</td>\n",
              "      <td>NaN</td>\n",
              "      <td>NaN</td>\n",
              "    </tr>\n",
              "    <tr>\n",
              "      <th>5</th>\n",
              "      <td>NaN</td>\n",
              "      <td>NaN</td>\n",
              "      <td>NaN</td>\n",
              "      <td>NaN</td>\n",
              "      <td>Manteiga</td>\n",
              "      <td>NaN</td>\n",
              "      <td>NaN</td>\n",
              "    </tr>\n",
              "    <tr>\n",
              "      <th>6</th>\n",
              "      <td>NaN</td>\n",
              "      <td>NaN</td>\n",
              "      <td>NaN</td>\n",
              "      <td>Pao</td>\n",
              "      <td>NaN</td>\n",
              "      <td>NaN</td>\n",
              "      <td>NaN</td>\n",
              "    </tr>\n",
              "    <tr>\n",
              "      <th>7</th>\n",
              "      <td>NaN</td>\n",
              "      <td>NaN</td>\n",
              "      <td>NaN</td>\n",
              "      <td>NaN</td>\n",
              "      <td>NaN</td>\n",
              "      <td>NaN</td>\n",
              "      <td>Feijao</td>\n",
              "    </tr>\n",
              "    <tr>\n",
              "      <th>8</th>\n",
              "      <td>NaN</td>\n",
              "      <td>NaN</td>\n",
              "      <td>NaN</td>\n",
              "      <td>NaN</td>\n",
              "      <td>NaN</td>\n",
              "      <td>Arroz</td>\n",
              "      <td>Feijao</td>\n",
              "    </tr>\n",
              "    <tr>\n",
              "      <th>9</th>\n",
              "      <td>NaN</td>\n",
              "      <td>NaN</td>\n",
              "      <td>NaN</td>\n",
              "      <td>NaN</td>\n",
              "      <td>NaN</td>\n",
              "      <td>Arroz</td>\n",
              "      <td>NaN</td>\n",
              "    </tr>\n",
              "  </tbody>\n",
              "</table>\n",
              "</div>\n",
              "      <button class=\"colab-df-convert\" onclick=\"convertToInteractive('df-2f348049-acfb-415e-99d6-ed6e910369cb')\"\n",
              "              title=\"Convert this dataframe to an interactive table.\"\n",
              "              style=\"display:none;\">\n",
              "        \n",
              "  <svg xmlns=\"http://www.w3.org/2000/svg\" height=\"24px\"viewBox=\"0 0 24 24\"\n",
              "       width=\"24px\">\n",
              "    <path d=\"M0 0h24v24H0V0z\" fill=\"none\"/>\n",
              "    <path d=\"M18.56 5.44l.94 2.06.94-2.06 2.06-.94-2.06-.94-.94-2.06-.94 2.06-2.06.94zm-11 1L8.5 8.5l.94-2.06 2.06-.94-2.06-.94L8.5 2.5l-.94 2.06-2.06.94zm10 10l.94 2.06.94-2.06 2.06-.94-2.06-.94-.94-2.06-.94 2.06-2.06.94z\"/><path d=\"M17.41 7.96l-1.37-1.37c-.4-.4-.92-.59-1.43-.59-.52 0-1.04.2-1.43.59L10.3 9.45l-7.72 7.72c-.78.78-.78 2.05 0 2.83L4 21.41c.39.39.9.59 1.41.59.51 0 1.02-.2 1.41-.59l7.78-7.78 2.81-2.81c.8-.78.8-2.07 0-2.86zM5.41 20L4 18.59l7.72-7.72 1.47 1.35L5.41 20z\"/>\n",
              "  </svg>\n",
              "      </button>\n",
              "      \n",
              "  <style>\n",
              "    .colab-df-container {\n",
              "      display:flex;\n",
              "      flex-wrap:wrap;\n",
              "      gap: 12px;\n",
              "    }\n",
              "\n",
              "    .colab-df-convert {\n",
              "      background-color: #E8F0FE;\n",
              "      border: none;\n",
              "      border-radius: 50%;\n",
              "      cursor: pointer;\n",
              "      display: none;\n",
              "      fill: #1967D2;\n",
              "      height: 32px;\n",
              "      padding: 0 0 0 0;\n",
              "      width: 32px;\n",
              "    }\n",
              "\n",
              "    .colab-df-convert:hover {\n",
              "      background-color: #E2EBFA;\n",
              "      box-shadow: 0px 1px 2px rgba(60, 64, 67, 0.3), 0px 1px 3px 1px rgba(60, 64, 67, 0.15);\n",
              "      fill: #174EA6;\n",
              "    }\n",
              "\n",
              "    [theme=dark] .colab-df-convert {\n",
              "      background-color: #3B4455;\n",
              "      fill: #D2E3FC;\n",
              "    }\n",
              "\n",
              "    [theme=dark] .colab-df-convert:hover {\n",
              "      background-color: #434B5C;\n",
              "      box-shadow: 0px 1px 3px 1px rgba(0, 0, 0, 0.15);\n",
              "      filter: drop-shadow(0px 1px 2px rgba(0, 0, 0, 0.3));\n",
              "      fill: #FFFFFF;\n",
              "    }\n",
              "  </style>\n",
              "\n",
              "      <script>\n",
              "        const buttonEl =\n",
              "          document.querySelector('#df-2f348049-acfb-415e-99d6-ed6e910369cb button.colab-df-convert');\n",
              "        buttonEl.style.display =\n",
              "          google.colab.kernel.accessAllowed ? 'block' : 'none';\n",
              "\n",
              "        async function convertToInteractive(key) {\n",
              "          const element = document.querySelector('#df-2f348049-acfb-415e-99d6-ed6e910369cb');\n",
              "          const dataTable =\n",
              "            await google.colab.kernel.invokeFunction('convertToInteractive',\n",
              "                                                     [key], {});\n",
              "          if (!dataTable) return;\n",
              "\n",
              "          const docLinkHtml = 'Like what you see? Visit the ' +\n",
              "            '<a target=\"_blank\" href=https://colab.research.google.com/notebooks/data_table.ipynb>data table notebook</a>'\n",
              "            + ' to learn more about interactive tables.';\n",
              "          element.innerHTML = '';\n",
              "          dataTable['output_type'] = 'display_data';\n",
              "          await google.colab.output.renderOutput(dataTable, element);\n",
              "          const docLink = document.createElement('div');\n",
              "          docLink.innerHTML = docLinkHtml;\n",
              "          element.appendChild(docLink);\n",
              "        }\n",
              "      </script>\n",
              "    </div>\n",
              "  </div>\n",
              "  "
            ]
          },
          "metadata": {},
          "execution_count": 4
        }
      ]
    },
    {
      "cell_type": "code",
      "source": [
        "base.shape"
      ],
      "metadata": {
        "colab": {
          "base_uri": "https://localhost:8080/"
        },
        "id": "bqUKr_T8PXYn",
        "outputId": "2ab65b37-bf0e-453a-dba0-93b635285479"
      },
      "execution_count": 5,
      "outputs": [
        {
          "output_type": "execute_result",
          "data": {
            "text/plain": [
              "(10, 7)"
            ]
          },
          "metadata": {},
          "execution_count": 5
        }
      ]
    },
    {
      "cell_type": "markdown",
      "source": [
        "**O código a seguir altera a base de dados para colocar as ausências dos produtos**"
      ],
      "metadata": {
        "id": "qMSzc0sIOd2S"
      }
    },
    {
      "cell_type": "code",
      "source": [
        "#for column in base:\n",
        "     #base[column]=base[column].fillna('~' + column)"
      ],
      "metadata": {
        "id": "19-9OGl8N84K"
      },
      "execution_count": 6,
      "outputs": []
    },
    {
      "cell_type": "code",
      "source": [
        "#base"
      ],
      "metadata": {
        "id": "EzgU0z9lPb7e"
      },
      "execution_count": 7,
      "outputs": []
    },
    {
      "cell_type": "code",
      "metadata": {
        "id": "oIBsczbGCxWf"
      },
      "source": [
        "#base.shape"
      ],
      "execution_count": 8,
      "outputs": []
    },
    {
      "cell_type": "markdown",
      "source": [
        "**Como estaremos treinando um modelo a priori, que recebe entradas em formato de lista, precisamos transformar o dataframe em uma lista de transações.**"
      ],
      "metadata": {
        "id": "cQyNolxV37tx"
      }
    },
    {
      "cell_type": "code",
      "metadata": {
        "id": "ZF8i0EdWCMjY"
      },
      "source": [
        "transacoes = []\n",
        "for i in range(len(base)):\n",
        "  #print(i)\n",
        "  #print(base_mercado1.values[i, 0])\n",
        "  transacoes.append([str(base.values[i, j]) for j in range(base.shape[1])])"
      ],
      "execution_count": 9,
      "outputs": []
    },
    {
      "cell_type": "code",
      "metadata": {
        "colab": {
          "base_uri": "https://localhost:8080/"
        },
        "id": "XH2CNc6VC3e3",
        "outputId": "dd2e8251-74cd-4744-e0bc-1d1d93d7ab66"
      },
      "source": [
        "transacoes"
      ],
      "execution_count": 10,
      "outputs": [
        {
          "output_type": "execute_result",
          "data": {
            "text/plain": [
              "[['nan', 'Cafe', 'nan', 'Pao', 'Manteiga', 'nan', 'nan'],\n",
              " ['Leite', 'nan', 'Cerveja', 'Pao', 'Manteiga', 'nan', 'nan'],\n",
              " ['nan', 'Cafe', 'nan', 'Pao', 'Manteiga', 'nan', 'nan'],\n",
              " ['Leite', 'Cafe', 'nan', 'Pao', 'Manteiga', 'nan', 'nan'],\n",
              " ['nan', 'nan', 'Cerveja', 'nan', 'nan', 'nan', 'nan'],\n",
              " ['nan', 'nan', 'nan', 'nan', 'Manteiga', 'nan', 'nan'],\n",
              " ['nan', 'nan', 'nan', 'Pao', 'nan', 'nan', 'nan'],\n",
              " ['nan', 'nan', 'nan', 'nan', 'nan', 'nan', 'Feijao'],\n",
              " ['nan', 'nan', 'nan', 'nan', 'nan', 'Arroz', 'Feijao'],\n",
              " ['nan', 'nan', 'nan', 'nan', 'nan', 'Arroz', 'nan']]"
            ]
          },
          "metadata": {},
          "execution_count": 10
        }
      ]
    },
    {
      "cell_type": "code",
      "metadata": {
        "colab": {
          "base_uri": "https://localhost:8080/"
        },
        "id": "jF4Ec_ryDNfw",
        "outputId": "6c175ec6-7fdd-47a8-b693-4dd9c4a01149"
      },
      "source": [
        "type(transacoes)\n",
        "print(transacoes[1])"
      ],
      "execution_count": 24,
      "outputs": [
        {
          "output_type": "stream",
          "name": "stdout",
          "text": [
            "['Leite', 'nan', 'Cerveja', 'Pao', 'Manteiga', 'nan', 'nan']\n"
          ]
        }
      ]
    },
    {
      "cell_type": "markdown",
      "source": [
        "**Vamos chamar executar o algoritmo apriori e armazenar as regras obtidas**"
      ],
      "metadata": {
        "id": "ggzA0uJg_3Ns"
      }
    },
    {
      "cell_type": "code",
      "source": [
        "regras = apriori(transacoes, min_support = 0.3, min_confidence = 0.8)\n",
        "saida = list(regras) \n",
        "print(len(saida))\n",
        "print(saida)"
      ],
      "metadata": {
        "colab": {
          "base_uri": "https://localhost:8080/"
        },
        "id": "DuX5YuabzqfQ",
        "outputId": "c8e1d7bd-7b4e-4026-d12c-337597304563"
      },
      "execution_count": 14,
      "outputs": [
        {
          "output_type": "stream",
          "name": "stdout",
          "text": [
            "12\n",
            "[RelationRecord(items=frozenset({'nan'}), support=1.0, ordered_statistics=[OrderedStatistic(items_base=frozenset(), items_add=frozenset({'nan'}), confidence=1.0, lift=1.0)]), RelationRecord(items=frozenset({'Manteiga', 'Cafe'}), support=0.3, ordered_statistics=[OrderedStatistic(items_base=frozenset({'Cafe'}), items_add=frozenset({'Manteiga'}), confidence=1.0, lift=2.0)]), RelationRecord(items=frozenset({'Pao', 'Cafe'}), support=0.3, ordered_statistics=[OrderedStatistic(items_base=frozenset({'Cafe'}), items_add=frozenset({'Pao'}), confidence=1.0, lift=2.0)]), RelationRecord(items=frozenset({'Cafe', 'nan'}), support=0.3, ordered_statistics=[OrderedStatistic(items_base=frozenset({'Cafe'}), items_add=frozenset({'nan'}), confidence=1.0, lift=1.0)]), RelationRecord(items=frozenset({'Pao', 'Manteiga'}), support=0.4, ordered_statistics=[OrderedStatistic(items_base=frozenset({'Manteiga'}), items_add=frozenset({'Pao'}), confidence=0.8, lift=1.6), OrderedStatistic(items_base=frozenset({'Pao'}), items_add=frozenset({'Manteiga'}), confidence=0.8, lift=1.6)]), RelationRecord(items=frozenset({'Manteiga', 'nan'}), support=0.5, ordered_statistics=[OrderedStatistic(items_base=frozenset({'Manteiga'}), items_add=frozenset({'nan'}), confidence=1.0, lift=1.0)]), RelationRecord(items=frozenset({'Pao', 'nan'}), support=0.5, ordered_statistics=[OrderedStatistic(items_base=frozenset({'Pao'}), items_add=frozenset({'nan'}), confidence=1.0, lift=1.0)]), RelationRecord(items=frozenset({'Manteiga', 'Pao', 'Cafe'}), support=0.3, ordered_statistics=[OrderedStatistic(items_base=frozenset({'Cafe'}), items_add=frozenset({'Pao', 'Manteiga'}), confidence=1.0, lift=2.5), OrderedStatistic(items_base=frozenset({'Manteiga', 'Cafe'}), items_add=frozenset({'Pao'}), confidence=1.0, lift=2.0), OrderedStatistic(items_base=frozenset({'Pao', 'Cafe'}), items_add=frozenset({'Manteiga'}), confidence=1.0, lift=2.0)]), RelationRecord(items=frozenset({'Manteiga', 'Cafe', 'nan'}), support=0.3, ordered_statistics=[OrderedStatistic(items_base=frozenset({'Cafe'}), items_add=frozenset({'Manteiga', 'nan'}), confidence=1.0, lift=2.0), OrderedStatistic(items_base=frozenset({'Manteiga', 'Cafe'}), items_add=frozenset({'nan'}), confidence=1.0, lift=1.0), OrderedStatistic(items_base=frozenset({'Cafe', 'nan'}), items_add=frozenset({'Manteiga'}), confidence=1.0, lift=2.0)]), RelationRecord(items=frozenset({'Pao', 'Cafe', 'nan'}), support=0.3, ordered_statistics=[OrderedStatistic(items_base=frozenset({'Cafe'}), items_add=frozenset({'Pao', 'nan'}), confidence=1.0, lift=2.0), OrderedStatistic(items_base=frozenset({'Pao', 'Cafe'}), items_add=frozenset({'nan'}), confidence=1.0, lift=1.0), OrderedStatistic(items_base=frozenset({'Cafe', 'nan'}), items_add=frozenset({'Pao'}), confidence=1.0, lift=2.0)]), RelationRecord(items=frozenset({'Pao', 'Manteiga', 'nan'}), support=0.4, ordered_statistics=[OrderedStatistic(items_base=frozenset({'Manteiga'}), items_add=frozenset({'Pao', 'nan'}), confidence=0.8, lift=1.6), OrderedStatistic(items_base=frozenset({'Pao'}), items_add=frozenset({'Manteiga', 'nan'}), confidence=0.8, lift=1.6), OrderedStatistic(items_base=frozenset({'Pao', 'Manteiga'}), items_add=frozenset({'nan'}), confidence=1.0, lift=1.0), OrderedStatistic(items_base=frozenset({'Manteiga', 'nan'}), items_add=frozenset({'Pao'}), confidence=0.8, lift=1.6), OrderedStatistic(items_base=frozenset({'Pao', 'nan'}), items_add=frozenset({'Manteiga'}), confidence=0.8, lift=1.6)]), RelationRecord(items=frozenset({'Manteiga', 'Pao', 'Cafe', 'nan'}), support=0.3, ordered_statistics=[OrderedStatistic(items_base=frozenset({'Cafe'}), items_add=frozenset({'Pao', 'Manteiga', 'nan'}), confidence=1.0, lift=2.5), OrderedStatistic(items_base=frozenset({'Manteiga', 'Cafe'}), items_add=frozenset({'Pao', 'nan'}), confidence=1.0, lift=2.0), OrderedStatistic(items_base=frozenset({'Pao', 'Cafe'}), items_add=frozenset({'Manteiga', 'nan'}), confidence=1.0, lift=2.0), OrderedStatistic(items_base=frozenset({'Cafe', 'nan'}), items_add=frozenset({'Pao', 'Manteiga'}), confidence=1.0, lift=2.5), OrderedStatistic(items_base=frozenset({'Manteiga', 'Pao', 'Cafe'}), items_add=frozenset({'nan'}), confidence=1.0, lift=1.0), OrderedStatistic(items_base=frozenset({'Manteiga', 'Cafe', 'nan'}), items_add=frozenset({'Pao'}), confidence=1.0, lift=2.0), OrderedStatistic(items_base=frozenset({'Pao', 'Cafe', 'nan'}), items_add=frozenset({'Manteiga'}), confidence=1.0, lift=2.0)])]\n"
          ]
        }
      ]
    },
    {
      "cell_type": "code",
      "source": [
        "itemsets = apriori(transacoes, min_support=0.1)#coloquei o suporte como 0.1, pois nao pode ser 0 \n",
        "\n",
        "print(f\"Itemsets utilizados no Apriori:\")\n",
        "for itemset in itemsets:\n",
        "    print(f\"{list(itemset.items)} - suporte: {itemset.support:.2f}\")\n"
      ],
      "metadata": {
        "colab": {
          "base_uri": "https://localhost:8080/"
        },
        "id": "3j8lrfeean-B",
        "outputId": "d742b664-a9f6-4415-e828-054732387018"
      },
      "execution_count": 22,
      "outputs": [
        {
          "output_type": "stream",
          "name": "stdout",
          "text": [
            "Itemsets utilizados no Apriori:\n",
            "['Arroz'] - suporte: 0.20\n",
            "['Cafe'] - suporte: 0.30\n",
            "['Cerveja'] - suporte: 0.20\n",
            "['Feijao'] - suporte: 0.20\n",
            "['Leite'] - suporte: 0.20\n",
            "['Manteiga'] - suporte: 0.50\n",
            "['Pao'] - suporte: 0.50\n",
            "['nan'] - suporte: 1.00\n",
            "['Feijao', 'Arroz'] - suporte: 0.10\n",
            "['nan', 'Arroz'] - suporte: 0.20\n",
            "['Leite', 'Cafe'] - suporte: 0.10\n",
            "['Manteiga', 'Cafe'] - suporte: 0.30\n",
            "['Pao', 'Cafe'] - suporte: 0.30\n",
            "['Cafe', 'nan'] - suporte: 0.30\n",
            "['Leite', 'Cerveja'] - suporte: 0.10\n",
            "['Manteiga', 'Cerveja'] - suporte: 0.10\n",
            "['Pao', 'Cerveja'] - suporte: 0.10\n",
            "['nan', 'Cerveja'] - suporte: 0.20\n",
            "['Feijao', 'nan'] - suporte: 0.20\n",
            "['Leite', 'Manteiga'] - suporte: 0.20\n",
            "['Pao', 'Leite'] - suporte: 0.20\n",
            "['Leite', 'nan'] - suporte: 0.20\n",
            "['Pao', 'Manteiga'] - suporte: 0.40\n",
            "['Manteiga', 'nan'] - suporte: 0.50\n",
            "['Pao', 'nan'] - suporte: 0.50\n",
            "['Feijao', 'nan', 'Arroz'] - suporte: 0.10\n",
            "['Manteiga', 'Leite', 'Cafe'] - suporte: 0.10\n",
            "['Pao', 'Leite', 'Cafe'] - suporte: 0.10\n",
            "['Leite', 'Cafe', 'nan'] - suporte: 0.10\n",
            "['Manteiga', 'Pao', 'Cafe'] - suporte: 0.30\n",
            "['Manteiga', 'Cafe', 'nan'] - suporte: 0.30\n",
            "['Pao', 'Cafe', 'nan'] - suporte: 0.30\n",
            "['Leite', 'Manteiga', 'Cerveja'] - suporte: 0.10\n",
            "['Pao', 'Leite', 'Cerveja'] - suporte: 0.10\n",
            "['Leite', 'nan', 'Cerveja'] - suporte: 0.10\n",
            "['Pao', 'Manteiga', 'Cerveja'] - suporte: 0.10\n",
            "['nan', 'Manteiga', 'Cerveja'] - suporte: 0.10\n",
            "['Pao', 'nan', 'Cerveja'] - suporte: 0.10\n",
            "['Pao', 'Leite', 'Manteiga'] - suporte: 0.20\n",
            "['Leite', 'Manteiga', 'nan'] - suporte: 0.20\n",
            "['Pao', 'Leite', 'nan'] - suporte: 0.20\n",
            "['Pao', 'Manteiga', 'nan'] - suporte: 0.40\n",
            "['Manteiga', 'Pao', 'Leite', 'Cafe'] - suporte: 0.10\n",
            "['Manteiga', 'Leite', 'Cafe', 'nan'] - suporte: 0.10\n",
            "['Pao', 'Leite', 'Cafe', 'nan'] - suporte: 0.10\n",
            "['Manteiga', 'Pao', 'Cafe', 'nan'] - suporte: 0.30\n",
            "['Pao', 'Leite', 'Manteiga', 'Cerveja'] - suporte: 0.10\n",
            "['nan', 'Leite', 'Manteiga', 'Cerveja'] - suporte: 0.10\n",
            "['Pao', 'Leite', 'nan', 'Cerveja'] - suporte: 0.10\n",
            "['nan', 'Pao', 'Manteiga', 'Cerveja'] - suporte: 0.10\n",
            "['Pao', 'Leite', 'Manteiga', 'nan'] - suporte: 0.20\n",
            "['Leite', 'nan', 'Cafe', 'Pao', 'Manteiga'] - suporte: 0.10\n",
            "['Leite', 'nan', 'Cerveja', 'Pao', 'Manteiga'] - suporte: 0.10\n"
          ]
        }
      ]
    },
    {
      "cell_type": "code",
      "source": [
        "print(saida[0])"
      ],
      "metadata": {
        "colab": {
          "base_uri": "https://localhost:8080/"
        },
        "id": "l4vMQUJfHu0e",
        "outputId": "b7a20b10-8db9-489a-fc83-c4875c40b5e2"
      },
      "execution_count": 23,
      "outputs": [
        {
          "output_type": "stream",
          "name": "stdout",
          "text": [
            "RelationRecord(items=frozenset({'nan'}), support=1.0, ordered_statistics=[OrderedStatistic(items_base=frozenset(), items_add=frozenset({'nan'}), confidence=1.0, lift=1.0)])\n"
          ]
        }
      ]
    },
    {
      "cell_type": "code",
      "source": [
        "print(saida[1])"
      ],
      "metadata": {
        "id": "M0hNno4uPcs9",
        "colab": {
          "base_uri": "https://localhost:8080/"
        },
        "outputId": "e71134d4-b74e-4779-f95a-a5a539616762"
      },
      "execution_count": 16,
      "outputs": [
        {
          "output_type": "stream",
          "name": "stdout",
          "text": [
            "RelationRecord(items=frozenset({'Manteiga', 'Cafe'}), support=0.3, ordered_statistics=[OrderedStatistic(items_base=frozenset({'Cafe'}), items_add=frozenset({'Manteiga'}), confidence=1.0, lift=2.0)])\n"
          ]
        }
      ]
    },
    {
      "cell_type": "code",
      "source": [
        "print(saida[2])"
      ],
      "metadata": {
        "id": "0ZMoSVL_9aXP",
        "colab": {
          "base_uri": "https://localhost:8080/"
        },
        "outputId": "b6369e70-fd3e-48f1-b962-0b4b8ab59be8"
      },
      "execution_count": 17,
      "outputs": [
        {
          "output_type": "stream",
          "name": "stdout",
          "text": [
            "RelationRecord(items=frozenset({'Pao', 'Cafe'}), support=0.3, ordered_statistics=[OrderedStatistic(items_base=frozenset({'Cafe'}), items_add=frozenset({'Pao'}), confidence=1.0, lift=2.0)])\n"
          ]
        }
      ]
    },
    {
      "cell_type": "markdown",
      "source": [
        "**Para facilitar a visualização, veja como transformar isso em um dataframe** \n",
        "\n",
        "Extraído de:\n",
        "\n",
        "https://www.section.io/engineering-education/apriori-algorithm-in-python/\n",
        "\n",
        "https://splunktool.com/understanding-apyoris-output"
      ],
      "metadata": {
        "id": "soknidg94a2y"
      }
    },
    {
      "cell_type": "code",
      "source": [
        "Antecedente = []\n",
        "Consequente = []\n",
        "suporte = []\n",
        "confianca = []\n",
        "lift = []\n",
        "\n",
        "for resultado in saida:\n",
        "  s = resultado[1]\n",
        "  print(resultado[1])\n",
        "  result_rules = resultado[2]\n",
        "  for result_rule in result_rules:\n",
        "    a = list(result_rule[0])\n",
        "    b = list(result_rule[1])\n",
        "    c = result_rule[2]\n",
        "    l = result_rule[3]\n",
        "    if 'nan' in a or 'nan' in b: continue\n",
        "    if len(a) == 0 or len(b) == 0: continue\n",
        "    Antecedente.append(a)\n",
        "    Consequente.append(b)\n",
        "    suporte.append(s)\n",
        "    confianca.append(c)\n",
        "    lift.append(l)\n",
        "    RegrasFinais = pd.DataFrame({'Antecedente': Antecedente, 'Consequente': Consequente, 'suporte': suporte, 'confianca': confianca, 'lift': lift})"
      ],
      "metadata": {
        "id": "UWDno2uo4aL0",
        "colab": {
          "base_uri": "https://localhost:8080/"
        },
        "outputId": "7f08fc2e-3617-42f8-b2fa-f3d719c628ff"
      },
      "execution_count": 19,
      "outputs": [
        {
          "output_type": "stream",
          "name": "stdout",
          "text": [
            "1.0\n",
            "0.3\n",
            "0.3\n",
            "0.3\n",
            "0.4\n",
            "0.5\n",
            "0.5\n",
            "0.3\n",
            "0.3\n",
            "0.3\n",
            "0.4\n",
            "0.3\n"
          ]
        }
      ]
    },
    {
      "cell_type": "code",
      "source": [
        "RegrasFinais"
      ],
      "metadata": {
        "id": "QW7wcZbe431-",
        "colab": {
          "base_uri": "https://localhost:8080/",
          "height": 269
        },
        "outputId": "f43362fb-4ec0-437c-c7f3-fac5fa673ffa"
      },
      "execution_count": 20,
      "outputs": [
        {
          "output_type": "execute_result",
          "data": {
            "text/plain": [
              "        Antecedente      Consequente  suporte  confianca  lift\n",
              "0            [Cafe]       [Manteiga]      0.3        1.0   2.0\n",
              "1            [Cafe]            [Pao]      0.3        1.0   2.0\n",
              "2        [Manteiga]            [Pao]      0.4        0.8   1.6\n",
              "3             [Pao]       [Manteiga]      0.4        0.8   1.6\n",
              "4            [Cafe]  [Manteiga, Pao]      0.3        1.0   2.5\n",
              "5  [Manteiga, Cafe]            [Pao]      0.3        1.0   2.0\n",
              "6       [Pao, Cafe]       [Manteiga]      0.3        1.0   2.0"
            ],
            "text/html": [
              "\n",
              "  <div id=\"df-20654304-e0ee-4214-be2b-52a0f58f3934\">\n",
              "    <div class=\"colab-df-container\">\n",
              "      <div>\n",
              "<style scoped>\n",
              "    .dataframe tbody tr th:only-of-type {\n",
              "        vertical-align: middle;\n",
              "    }\n",
              "\n",
              "    .dataframe tbody tr th {\n",
              "        vertical-align: top;\n",
              "    }\n",
              "\n",
              "    .dataframe thead th {\n",
              "        text-align: right;\n",
              "    }\n",
              "</style>\n",
              "<table border=\"1\" class=\"dataframe\">\n",
              "  <thead>\n",
              "    <tr style=\"text-align: right;\">\n",
              "      <th></th>\n",
              "      <th>Antecedente</th>\n",
              "      <th>Consequente</th>\n",
              "      <th>suporte</th>\n",
              "      <th>confianca</th>\n",
              "      <th>lift</th>\n",
              "    </tr>\n",
              "  </thead>\n",
              "  <tbody>\n",
              "    <tr>\n",
              "      <th>0</th>\n",
              "      <td>[Cafe]</td>\n",
              "      <td>[Manteiga]</td>\n",
              "      <td>0.3</td>\n",
              "      <td>1.0</td>\n",
              "      <td>2.0</td>\n",
              "    </tr>\n",
              "    <tr>\n",
              "      <th>1</th>\n",
              "      <td>[Cafe]</td>\n",
              "      <td>[Pao]</td>\n",
              "      <td>0.3</td>\n",
              "      <td>1.0</td>\n",
              "      <td>2.0</td>\n",
              "    </tr>\n",
              "    <tr>\n",
              "      <th>2</th>\n",
              "      <td>[Manteiga]</td>\n",
              "      <td>[Pao]</td>\n",
              "      <td>0.4</td>\n",
              "      <td>0.8</td>\n",
              "      <td>1.6</td>\n",
              "    </tr>\n",
              "    <tr>\n",
              "      <th>3</th>\n",
              "      <td>[Pao]</td>\n",
              "      <td>[Manteiga]</td>\n",
              "      <td>0.4</td>\n",
              "      <td>0.8</td>\n",
              "      <td>1.6</td>\n",
              "    </tr>\n",
              "    <tr>\n",
              "      <th>4</th>\n",
              "      <td>[Cafe]</td>\n",
              "      <td>[Manteiga, Pao]</td>\n",
              "      <td>0.3</td>\n",
              "      <td>1.0</td>\n",
              "      <td>2.5</td>\n",
              "    </tr>\n",
              "    <tr>\n",
              "      <th>5</th>\n",
              "      <td>[Manteiga, Cafe]</td>\n",
              "      <td>[Pao]</td>\n",
              "      <td>0.3</td>\n",
              "      <td>1.0</td>\n",
              "      <td>2.0</td>\n",
              "    </tr>\n",
              "    <tr>\n",
              "      <th>6</th>\n",
              "      <td>[Pao, Cafe]</td>\n",
              "      <td>[Manteiga]</td>\n",
              "      <td>0.3</td>\n",
              "      <td>1.0</td>\n",
              "      <td>2.0</td>\n",
              "    </tr>\n",
              "  </tbody>\n",
              "</table>\n",
              "</div>\n",
              "      <button class=\"colab-df-convert\" onclick=\"convertToInteractive('df-20654304-e0ee-4214-be2b-52a0f58f3934')\"\n",
              "              title=\"Convert this dataframe to an interactive table.\"\n",
              "              style=\"display:none;\">\n",
              "        \n",
              "  <svg xmlns=\"http://www.w3.org/2000/svg\" height=\"24px\"viewBox=\"0 0 24 24\"\n",
              "       width=\"24px\">\n",
              "    <path d=\"M0 0h24v24H0V0z\" fill=\"none\"/>\n",
              "    <path d=\"M18.56 5.44l.94 2.06.94-2.06 2.06-.94-2.06-.94-.94-2.06-.94 2.06-2.06.94zm-11 1L8.5 8.5l.94-2.06 2.06-.94-2.06-.94L8.5 2.5l-.94 2.06-2.06.94zm10 10l.94 2.06.94-2.06 2.06-.94-2.06-.94-.94-2.06-.94 2.06-2.06.94z\"/><path d=\"M17.41 7.96l-1.37-1.37c-.4-.4-.92-.59-1.43-.59-.52 0-1.04.2-1.43.59L10.3 9.45l-7.72 7.72c-.78.78-.78 2.05 0 2.83L4 21.41c.39.39.9.59 1.41.59.51 0 1.02-.2 1.41-.59l7.78-7.78 2.81-2.81c.8-.78.8-2.07 0-2.86zM5.41 20L4 18.59l7.72-7.72 1.47 1.35L5.41 20z\"/>\n",
              "  </svg>\n",
              "      </button>\n",
              "      \n",
              "  <style>\n",
              "    .colab-df-container {\n",
              "      display:flex;\n",
              "      flex-wrap:wrap;\n",
              "      gap: 12px;\n",
              "    }\n",
              "\n",
              "    .colab-df-convert {\n",
              "      background-color: #E8F0FE;\n",
              "      border: none;\n",
              "      border-radius: 50%;\n",
              "      cursor: pointer;\n",
              "      display: none;\n",
              "      fill: #1967D2;\n",
              "      height: 32px;\n",
              "      padding: 0 0 0 0;\n",
              "      width: 32px;\n",
              "    }\n",
              "\n",
              "    .colab-df-convert:hover {\n",
              "      background-color: #E2EBFA;\n",
              "      box-shadow: 0px 1px 2px rgba(60, 64, 67, 0.3), 0px 1px 3px 1px rgba(60, 64, 67, 0.15);\n",
              "      fill: #174EA6;\n",
              "    }\n",
              "\n",
              "    [theme=dark] .colab-df-convert {\n",
              "      background-color: #3B4455;\n",
              "      fill: #D2E3FC;\n",
              "    }\n",
              "\n",
              "    [theme=dark] .colab-df-convert:hover {\n",
              "      background-color: #434B5C;\n",
              "      box-shadow: 0px 1px 3px 1px rgba(0, 0, 0, 0.15);\n",
              "      filter: drop-shadow(0px 1px 2px rgba(0, 0, 0, 0.3));\n",
              "      fill: #FFFFFF;\n",
              "    }\n",
              "  </style>\n",
              "\n",
              "      <script>\n",
              "        const buttonEl =\n",
              "          document.querySelector('#df-20654304-e0ee-4214-be2b-52a0f58f3934 button.colab-df-convert');\n",
              "        buttonEl.style.display =\n",
              "          google.colab.kernel.accessAllowed ? 'block' : 'none';\n",
              "\n",
              "        async function convertToInteractive(key) {\n",
              "          const element = document.querySelector('#df-20654304-e0ee-4214-be2b-52a0f58f3934');\n",
              "          const dataTable =\n",
              "            await google.colab.kernel.invokeFunction('convertToInteractive',\n",
              "                                                     [key], {});\n",
              "          if (!dataTable) return;\n",
              "\n",
              "          const docLinkHtml = 'Like what you see? Visit the ' +\n",
              "            '<a target=\"_blank\" href=https://colab.research.google.com/notebooks/data_table.ipynb>data table notebook</a>'\n",
              "            + ' to learn more about interactive tables.';\n",
              "          element.innerHTML = '';\n",
              "          dataTable['output_type'] = 'display_data';\n",
              "          await google.colab.output.renderOutput(dataTable, element);\n",
              "          const docLink = document.createElement('div');\n",
              "          docLink.innerHTML = docLinkHtml;\n",
              "          element.appendChild(docLink);\n",
              "        }\n",
              "      </script>\n",
              "    </div>\n",
              "  </div>\n",
              "  "
            ]
          },
          "metadata": {},
          "execution_count": 20
        }
      ]
    },
    {
      "cell_type": "markdown",
      "source": [
        "**Podemos ordenar estas regras por uma métrica desejada**"
      ],
      "metadata": {
        "id": "DJUXykHjhbJ0"
      }
    },
    {
      "cell_type": "code",
      "source": [
        "RegrasFinais.sort_values(by='lift', ascending =False)"
      ],
      "metadata": {
        "id": "A7X_YwVHhaxf",
        "colab": {
          "base_uri": "https://localhost:8080/",
          "height": 269
        },
        "outputId": "ee9e78b0-8414-452b-c30c-82bc837d333c"
      },
      "execution_count": 21,
      "outputs": [
        {
          "output_type": "execute_result",
          "data": {
            "text/plain": [
              "        Antecedente      Consequente  suporte  confianca  lift\n",
              "4            [Cafe]  [Manteiga, Pao]      0.3        1.0   2.5\n",
              "0            [Cafe]       [Manteiga]      0.3        1.0   2.0\n",
              "1            [Cafe]            [Pao]      0.3        1.0   2.0\n",
              "5  [Manteiga, Cafe]            [Pao]      0.3        1.0   2.0\n",
              "6       [Pao, Cafe]       [Manteiga]      0.3        1.0   2.0\n",
              "2        [Manteiga]            [Pao]      0.4        0.8   1.6\n",
              "3             [Pao]       [Manteiga]      0.4        0.8   1.6"
            ],
            "text/html": [
              "\n",
              "  <div id=\"df-b10218d9-927a-412d-9510-510630edb8dd\">\n",
              "    <div class=\"colab-df-container\">\n",
              "      <div>\n",
              "<style scoped>\n",
              "    .dataframe tbody tr th:only-of-type {\n",
              "        vertical-align: middle;\n",
              "    }\n",
              "\n",
              "    .dataframe tbody tr th {\n",
              "        vertical-align: top;\n",
              "    }\n",
              "\n",
              "    .dataframe thead th {\n",
              "        text-align: right;\n",
              "    }\n",
              "</style>\n",
              "<table border=\"1\" class=\"dataframe\">\n",
              "  <thead>\n",
              "    <tr style=\"text-align: right;\">\n",
              "      <th></th>\n",
              "      <th>Antecedente</th>\n",
              "      <th>Consequente</th>\n",
              "      <th>suporte</th>\n",
              "      <th>confianca</th>\n",
              "      <th>lift</th>\n",
              "    </tr>\n",
              "  </thead>\n",
              "  <tbody>\n",
              "    <tr>\n",
              "      <th>4</th>\n",
              "      <td>[Cafe]</td>\n",
              "      <td>[Manteiga, Pao]</td>\n",
              "      <td>0.3</td>\n",
              "      <td>1.0</td>\n",
              "      <td>2.5</td>\n",
              "    </tr>\n",
              "    <tr>\n",
              "      <th>0</th>\n",
              "      <td>[Cafe]</td>\n",
              "      <td>[Manteiga]</td>\n",
              "      <td>0.3</td>\n",
              "      <td>1.0</td>\n",
              "      <td>2.0</td>\n",
              "    </tr>\n",
              "    <tr>\n",
              "      <th>1</th>\n",
              "      <td>[Cafe]</td>\n",
              "      <td>[Pao]</td>\n",
              "      <td>0.3</td>\n",
              "      <td>1.0</td>\n",
              "      <td>2.0</td>\n",
              "    </tr>\n",
              "    <tr>\n",
              "      <th>5</th>\n",
              "      <td>[Manteiga, Cafe]</td>\n",
              "      <td>[Pao]</td>\n",
              "      <td>0.3</td>\n",
              "      <td>1.0</td>\n",
              "      <td>2.0</td>\n",
              "    </tr>\n",
              "    <tr>\n",
              "      <th>6</th>\n",
              "      <td>[Pao, Cafe]</td>\n",
              "      <td>[Manteiga]</td>\n",
              "      <td>0.3</td>\n",
              "      <td>1.0</td>\n",
              "      <td>2.0</td>\n",
              "    </tr>\n",
              "    <tr>\n",
              "      <th>2</th>\n",
              "      <td>[Manteiga]</td>\n",
              "      <td>[Pao]</td>\n",
              "      <td>0.4</td>\n",
              "      <td>0.8</td>\n",
              "      <td>1.6</td>\n",
              "    </tr>\n",
              "    <tr>\n",
              "      <th>3</th>\n",
              "      <td>[Pao]</td>\n",
              "      <td>[Manteiga]</td>\n",
              "      <td>0.4</td>\n",
              "      <td>0.8</td>\n",
              "      <td>1.6</td>\n",
              "    </tr>\n",
              "  </tbody>\n",
              "</table>\n",
              "</div>\n",
              "      <button class=\"colab-df-convert\" onclick=\"convertToInteractive('df-b10218d9-927a-412d-9510-510630edb8dd')\"\n",
              "              title=\"Convert this dataframe to an interactive table.\"\n",
              "              style=\"display:none;\">\n",
              "        \n",
              "  <svg xmlns=\"http://www.w3.org/2000/svg\" height=\"24px\"viewBox=\"0 0 24 24\"\n",
              "       width=\"24px\">\n",
              "    <path d=\"M0 0h24v24H0V0z\" fill=\"none\"/>\n",
              "    <path d=\"M18.56 5.44l.94 2.06.94-2.06 2.06-.94-2.06-.94-.94-2.06-.94 2.06-2.06.94zm-11 1L8.5 8.5l.94-2.06 2.06-.94-2.06-.94L8.5 2.5l-.94 2.06-2.06.94zm10 10l.94 2.06.94-2.06 2.06-.94-2.06-.94-.94-2.06-.94 2.06-2.06.94z\"/><path d=\"M17.41 7.96l-1.37-1.37c-.4-.4-.92-.59-1.43-.59-.52 0-1.04.2-1.43.59L10.3 9.45l-7.72 7.72c-.78.78-.78 2.05 0 2.83L4 21.41c.39.39.9.59 1.41.59.51 0 1.02-.2 1.41-.59l7.78-7.78 2.81-2.81c.8-.78.8-2.07 0-2.86zM5.41 20L4 18.59l7.72-7.72 1.47 1.35L5.41 20z\"/>\n",
              "  </svg>\n",
              "      </button>\n",
              "      \n",
              "  <style>\n",
              "    .colab-df-container {\n",
              "      display:flex;\n",
              "      flex-wrap:wrap;\n",
              "      gap: 12px;\n",
              "    }\n",
              "\n",
              "    .colab-df-convert {\n",
              "      background-color: #E8F0FE;\n",
              "      border: none;\n",
              "      border-radius: 50%;\n",
              "      cursor: pointer;\n",
              "      display: none;\n",
              "      fill: #1967D2;\n",
              "      height: 32px;\n",
              "      padding: 0 0 0 0;\n",
              "      width: 32px;\n",
              "    }\n",
              "\n",
              "    .colab-df-convert:hover {\n",
              "      background-color: #E2EBFA;\n",
              "      box-shadow: 0px 1px 2px rgba(60, 64, 67, 0.3), 0px 1px 3px 1px rgba(60, 64, 67, 0.15);\n",
              "      fill: #174EA6;\n",
              "    }\n",
              "\n",
              "    [theme=dark] .colab-df-convert {\n",
              "      background-color: #3B4455;\n",
              "      fill: #D2E3FC;\n",
              "    }\n",
              "\n",
              "    [theme=dark] .colab-df-convert:hover {\n",
              "      background-color: #434B5C;\n",
              "      box-shadow: 0px 1px 3px 1px rgba(0, 0, 0, 0.15);\n",
              "      filter: drop-shadow(0px 1px 2px rgba(0, 0, 0, 0.3));\n",
              "      fill: #FFFFFF;\n",
              "    }\n",
              "  </style>\n",
              "\n",
              "      <script>\n",
              "        const buttonEl =\n",
              "          document.querySelector('#df-b10218d9-927a-412d-9510-510630edb8dd button.colab-df-convert');\n",
              "        buttonEl.style.display =\n",
              "          google.colab.kernel.accessAllowed ? 'block' : 'none';\n",
              "\n",
              "        async function convertToInteractive(key) {\n",
              "          const element = document.querySelector('#df-b10218d9-927a-412d-9510-510630edb8dd');\n",
              "          const dataTable =\n",
              "            await google.colab.kernel.invokeFunction('convertToInteractive',\n",
              "                                                     [key], {});\n",
              "          if (!dataTable) return;\n",
              "\n",
              "          const docLinkHtml = 'Like what you see? Visit the ' +\n",
              "            '<a target=\"_blank\" href=https://colab.research.google.com/notebooks/data_table.ipynb>data table notebook</a>'\n",
              "            + ' to learn more about interactive tables.';\n",
              "          element.innerHTML = '';\n",
              "          dataTable['output_type'] = 'display_data';\n",
              "          await google.colab.output.renderOutput(dataTable, element);\n",
              "          const docLink = document.createElement('div');\n",
              "          docLink.innerHTML = docLinkHtml;\n",
              "          element.appendChild(docLink);\n",
              "        }\n",
              "      </script>\n",
              "    </div>\n",
              "  </div>\n",
              "  "
            ]
          },
          "metadata": {},
          "execution_count": 21
        }
      ]
    }
  ]
}